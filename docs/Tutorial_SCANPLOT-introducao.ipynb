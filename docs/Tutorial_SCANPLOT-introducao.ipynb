{
 "cells": [
  {
   "cell_type": "markdown",
   "metadata": {},
   "source": [
    "# Módulo SCANPLOT\n",
    "\n",
    "O módulo `scanplot` possui as seguintes funções:\n",
    "\n",
    "1. `read_namelists`: esta função lê os arquivos de namelist e definições dos modelos do SCANTEC;\n",
    "2. `get_dataframe`: esta função transforma uma ou mais tabelas em dataframes do Pandas, acessíveis por meio de um dicionário;\n",
    "3. `plot_lines`: esta função plota gráficos de linhas a partir dos dataframes;\n",
    "4. `plot_lines_tStudent`: esta função plota gráficos de linhas a partir dos dataframes, acompanhados do teste de significância t de Student;\n",
    "5. `plot_scorecard`: esta função plota um scorecard a partir dos dataframes;\n",
    "6. `plot_dTaylor`: esta função plota um diagrama de Taylor a partir dos dataframes.\n",
    "\n",
    "As funções possuem formas específicas de utilização. Para saber como utilizá-las, carregue primeiro o módulo `scanplot`:\n",
    "\n",
    "```Python\n",
    "import scanplot\n",
    "```\n",
    "\n",
    "ou \n",
    "\n",
    "```Python\n",
    "import scanplot as sc\n",
    "```\n",
    "\n",
    "E em seguida, acesse a documentação da função digitando uma das duas formas a seguir:\n",
    "\n",
    "```Python\n",
    "help(read_namelists)\n",
    "```\n",
    "\n",
    "ou\n",
    "\n",
    "```Python\n",
    "print(red_namelists.__doc__)\n",
    "```"
   ]
  }
 ],
 "metadata": {
  "kernelspec": {
   "display_name": "DASSCANPLOT",
   "language": "python",
   "name": "dasscanplot"
  },
  "language_info": {
   "codemirror_mode": {
    "name": "ipython",
    "version": 3
   },
   "file_extension": ".py",
   "mimetype": "text/x-python",
   "name": "python",
   "nbconvert_exporter": "python",
   "pygments_lexer": "ipython3",
   "version": "3.8.2"
  },
  "latex_metadata": {
   "affiliation": "Freie Universit\\\"at Berlin, Fachbereich Physik, 14195 Berlin, Germany",
   "author": "Julius C. F. Schulz",
   "title": "Amazing Article"
  }
 },
 "nbformat": 4,
 "nbformat_minor": 4
}
