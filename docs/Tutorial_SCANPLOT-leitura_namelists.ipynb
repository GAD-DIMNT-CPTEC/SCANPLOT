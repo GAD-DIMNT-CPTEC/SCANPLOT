{
 "cells": [
  {
   "cell_type": "markdown",
   "metadata": {},
   "source": [
    "# Leitura dos namelists do SCANTEC\n",
    "\n",
    "O SCANTEC é um software de linha de comando escrito em linguagem Fortran preparado para ler, interpolar e calcular as estatísticas básicas (Viés, Raiz do Erro Quadrático Médio e Correlação de Anomalias) a partir dos resultados de modelos de previsão numérica de tempo, como os modelos BAM, BRAMS e Eta. O SCANPLOT faz o trabalho de criar as estruturas de dados adequadas e plotar os resultados. As estruturas de dados criadas pelo SCANPLOT, são determinadas a partir das tabelas com o resumo das estatísticas calculadas pelo SCANTEC. Para utilizar o SCANPLOT, o usuário deve ler os arquivos de namelist e definições dos modelos utilizados nas avaliações, de forma que o software saiba quais foram as definições utilizadas pelo usuário e em que local estão armazenadas as tabelas com os resultados.\n",
    "\n",
    "Para isso, basta utilizar a função `read_namelists` a partir do módulo principal `scanplot`. Esta e as demais funções, podem ser acessadas a partir do módulo principal, o qual deverá ser carregado:"
   ]
  },
  {
   "cell_type": "code",
   "execution_count": 1,
   "metadata": {},
   "outputs": [],
   "source": [
    "import scanplot"
   ]
  },
  {
   "cell_type": "markdown",
   "metadata": {},
   "source": [
    "Para conhecer como deve ser utilizada a função `read_namelists`, o usuário pode utilizar um dos comandos a seguir:"
   ]
  },
  {
   "cell_type": "code",
   "execution_count": 2,
   "metadata": {
    "scrolled": false
   },
   "outputs": [
    {
     "name": "stdout",
     "output_type": "stream",
     "text": [
      "Help on function read_namelists in module core_scanplot:\n",
      "\n",
      "read_namelists(basepath)\n",
      "    read_namelists\n",
      "    ==============\n",
      "    \n",
      "    Esta função lê os namelists e arquivos de definições dos modelos do SCANTEC e\n",
      "    retorna para o usuário dois dicionários, VarsLevs e Confs, com as informações lidas.\n",
      "    \n",
      "    Parâmetros de entrada\n",
      "    ---------------------\n",
      "        basepath : diretório raiz da instalação do SCANTEC.\n",
      "        \n",
      "    Resultados\n",
      "    ----------\n",
      "        VarsLevs : dicionário com as variáveis, níveis e nomes definidos no arquivo scantec.vars;\n",
      "        Confs    : dicionário com as definições contidas no arquivo scantec.conf.\n",
      "    \n",
      "    Uso\n",
      "    ---\n",
      "        import scanplot\n",
      "        \n",
      "        data_vars, data_conf = scanplot.read_namelists(\"~/SCANTEC\")\n",
      "\n"
     ]
    }
   ],
   "source": [
    "help(scanplot.read_namelists)"
   ]
  },
  {
   "cell_type": "markdown",
   "metadata": {},
   "source": [
    "A função `read_namelists` recebe um caminho (raiz da instalação do SCANTEC) como parâmetro de entrada e retorna para o usuário dois dicionários, os quais contém as informações dos arquivos `scantec.conf` e `scantec.vars` do SCANTEC. Estes arquivos possuem as definições dos modelos (intervalo de tempo da avalação, nome do modelo, resolução, caminhos etc). Os nomes `data_vars` e `data_conf` são os nomes dos objetos que serão criados e que conterão os dicionários com as definições dos arquivos `scantec.vars` e `scantec.conf`, respectivamente. A escolha destes nomes fica a critério do usuário."
   ]
  },
  {
   "cell_type": "code",
   "execution_count": 3,
   "metadata": {
    "scrolled": false
   },
   "outputs": [],
   "source": [
    "data_vars, data_conf = scanplot.read_namelists('/scripts/ensemble/SCANTEC.TESTS')"
   ]
  },
  {
   "cell_type": "markdown",
   "metadata": {},
   "source": [
    "Para inspecionar o conteúdo e a estrutura dos dados contidos nos objetos `data_conf` e `data_vars`, basta digitar os nomes no prompt:"
   ]
  },
  {
   "cell_type": "code",
   "execution_count": 4,
   "metadata": {
    "scrolled": false
   },
   "outputs": [
    {
     "data": {
      "text/plain": [
       "{'Starting Time': datetime.datetime(2020, 6, 1, 0, 0),\n",
       " 'Ending Time': datetime.datetime(2020, 8, 15, 0, 0),\n",
       " 'Analisys Time Step': '24',\n",
       " 'Forecast Time Step': '24',\n",
       " 'Forecast Total Time': '360',\n",
       " 'Time Step Type': 'forward',\n",
       " 'History Time': '48',\n",
       " 'scantec tables': '/scripts/ensemble/SCANTEC.TESTS/tables',\n",
       " 'run domain number': '1',\n",
       " 'run domain lower left lat': '-80',\n",
       " 'run domain lower left lon': '0',\n",
       " 'run domain upper right lat': '80',\n",
       " 'run domain upper right lon': '360',\n",
       " 'run domain resolution dx': '0.9375000000',\n",
       " 'run domain resolution dy': '0.9375000000',\n",
       " 'Reference Model Name': 'GFS_0p25_5levs',\n",
       " 'Reference file': '/lustre_xc50/carlos_bastarz/GFS_subset/%iy4%im2%id2%ih2/gfs.t00z.pgrb2.0p25.f000.%iy4%im2%id2%ih2.ctl',\n",
       " 'Experiments': {'X126': ['BAM_TQ0126L028_9levs',\n",
       "   '/lustre_xc50/carlos_bastarz/oensMB09_test_preXC50/pos/dataout/TQ0126L028/%iy4%im2%id2%ih2/NMC/GPOSNMC%iy4%im2%id2%ih2%fy4%fm2%fd2%fh2P.fct.TQ0126L028.ctl'],\n",
       "  'XENM': ['BAM_TQ0126L028_9levs',\n",
       "   '/lustre_xc50/carlos_bastarz/oensMB09_test_preXC50/ensmed/dataout/TQ0126L028/%iy4%im2%id2%ih2/GPOSENM%iy4%im2%id2%ih2%fy4%fm2%fd2%fh2P.fct.TQ0126L028.ctl'],\n",
       "  'T126': ['BAM_TQ0126L028_9levs',\n",
       "   '/lustre_xc50/carlos_bastarz/from_tupa/dados/ensemble/dsk001/oens_MB09_tupa/pos/dataout/TQ0126L028/%iy4%im2%id2%ih2/NMC/GPOSNMC%iy4%im2%id2%ih2%fy4%fm2%fd2%fh2P.fct.TQ0126L028.ctl'],\n",
       "  'TENM': ['BAM_TQ0126L028_9levs',\n",
       "   '/lustre_xc50/carlos_bastarz/from_tupa/dados/ensemble/dsk001/oens_MB09_tupa/ensmed/dataout/TQ0126L028/%iy4%im2%id2%ih2/GPOSENM%iy4%im2%id2%ih2%fy4%fm2%fd2%fh2P.fct.TQ0126L028.ctl']},\n",
       " 'Climatology Model Name': 'AGCM_TQ0062L028_50YR_CLIMATOLOGY_18levs',\n",
       " 'Climatology file': '/lustre_xc50/carlos_bastarz/climatologia/climatologia50yr.%mc.ctl',\n",
       " 'Output directory': '/scripts/ensemble/SCANTEC.TESTS/dataout'}"
      ]
     },
     "execution_count": 4,
     "metadata": {},
     "output_type": "execute_result"
    }
   ],
   "source": [
    "data_conf"
   ]
  },
  {
   "cell_type": "code",
   "execution_count": 5,
   "metadata": {
    "scrolled": true
   },
   "outputs": [
    {
     "data": {
      "text/plain": [
       "{0: ('PSNM:000', 'Pressão Reduzida ao Nível Médio do Mar [hPa]'),\n",
       " 1: ('TEMP:850', 'Temperatura Absoluta @ 850 hPa [K]'),\n",
       " 2: ('TEMP:500', 'Temperatura Absoluta @ 500 hPa [K]'),\n",
       " 3: ('TEMP:250', 'Temperatura Absoluta @ 250 hPa [K]'),\n",
       " 4: ('UMES:925', 'Umidade Específica @ 925 hPa [g/Kg]'),\n",
       " 5: ('UMES:850', 'Umidade Específica @ 850 hPa [g/Kg]'),\n",
       " 6: ('UMES:500', 'Umidade Específica @ 500 hPa [g/Kg]'),\n",
       " 7: ('AGPL:925', 'Água Precipitável @ 925 hPa [Kg/m2]'),\n",
       " 8: ('ZGEO:850', 'Altura Geopotencial @ 850 hPa [gpm]'),\n",
       " 9: ('ZGEO:500', 'Altura Geopotencial @ 500 hPa [gpm]'),\n",
       " 10: ('ZGEO:250', 'Altura Geopotencial @ 250 hPa [gpm]'),\n",
       " 11: ('UVEL:850', 'Vento Zonal @ 850 hPa [m/s]'),\n",
       " 12: ('UVEL:500', 'Vento Zonal @ 500 hPa [m/s]'),\n",
       " 13: ('UVEL:250', 'Vento Zonal @ 250 hPa [m/s]'),\n",
       " 14: ('VVEL:850', 'Vento Meridional @ 850 hPa [m/s]'),\n",
       " 15: ('VVEL:500', 'Vento Meridional @ 500 hPa [m/s]'),\n",
       " 16: ('VVEL:250', 'Vento Meridional @ 250 hPa [m/s]')}"
      ]
     },
     "execution_count": 5,
     "metadata": {},
     "output_type": "execute_result"
    }
   ],
   "source": [
    "data_vars"
   ]
  }
 ],
 "metadata": {
  "kernelspec": {
   "display_name": "DASSCANPLOT",
   "language": "python",
   "name": "dasscanplot"
  },
  "language_info": {
   "codemirror_mode": {
    "name": "ipython",
    "version": 3
   },
   "file_extension": ".py",
   "mimetype": "text/x-python",
   "name": "python",
   "nbconvert_exporter": "python",
   "pygments_lexer": "ipython3",
   "version": "3.8.2"
  },
  "latex_metadata": {
   "affiliation": "Freie Universit\\\"at Berlin, Fachbereich Physik, 14195 Berlin, Germany",
   "author": "Julius C. F. Schulz",
   "title": "Amazing Article"
  }
 },
 "nbformat": 4,
 "nbformat_minor": 4
}
