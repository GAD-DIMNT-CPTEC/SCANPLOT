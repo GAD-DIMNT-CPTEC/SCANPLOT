{
 "cells": [
  {
   "cell_type": "code",
   "execution_count": null,
   "metadata": {},
   "outputs": [],
   "source": [
    "import scanplot\n",
    "#import cartopy.crs as ccrs\n",
    "#\n",
    "#import holoviews as hv\n",
    "#from holoviews import opts\n",
    "##hv.extension('bokeh')\n",
    "#\n",
    "##import numpy as np\n",
    "##import holoviews as hv\n",
    "##hv.extension('matplotlib')\n",
    "#\n",
    "##import matplotlib.pyplot as plt\n",
    "#import xarray as xr\n",
    "#\n",
    "#import hvplot.xarray\n",
    "#\n",
    "#import panel as pn\n",
    "#pn.extension('plotly')"
   ]
  },
  {
   "cell_type": "code",
   "execution_count": null,
   "metadata": {
    "scrolled": false
   },
   "outputs": [],
   "source": [
    "Regs = ['gl']#, 'hn', 'tr', 'hs', 'as']\n",
    "\n",
    "Stats = ['MEAN']#, 'RMSE', 'VIES']\n",
    "Exps = ['X666']\n",
    "\n",
    "d_data_vars = {}\n",
    "d_data_conf = {}\n",
    "\n",
    "for reg in Regs:\n",
    "    data_vars, data_conf = scanplot.read_namelists(\n",
    "        '/home/carlos/Downloads/SCANPLOT_T11212/test/SCANTEC.2.0.0b2_test_aval_oper',\n",
    "        basecomp='periodo/X666/' + reg)\n",
    "    d_data_vars[reg] = data_vars\n",
    "    d_data_conf[reg] = data_conf"
   ]
  },
  {
   "cell_type": "code",
   "execution_count": null,
   "metadata": {},
   "outputs": [],
   "source": [
    "Vars = list(map(data_vars.get,[*data_vars.keys()]))"
   ]
  },
  {
   "cell_type": "code",
   "execution_count": null,
   "metadata": {
    "scrolled": true
   },
   "outputs": [],
   "source": [
    "d_dSet = {}\n",
    "\n",
    "for reg in Regs:\n",
    "    #outDir = d_data_conf[reg]['Output directory']\n",
    "    outDir = '/home/carlos/Downloads/SCANPLOT_T11212/test/SCANTEC.2.0.0b2_test_aval_oper/dataout/periodo/' + reg\n",
    "    #outDir = '/home/carlos/Downloads/SCANPLOT_T11212/test/SCANTEC.2.0.0b2_test_aval_oper/dataout/serie/' + reg\n",
    "    figDir = outDir + '/figs'\n",
    "    dSet = scanplot.get_dataset(d_data_conf[reg], d_data_vars[reg], Stats, Exps, outDir, tExt='scan', series=False, save=True)\n",
    "    d_dSet[reg] = dSet  "
   ]
  },
  {
   "cell_type": "code",
   "execution_count": null,
   "metadata": {},
   "outputs": [],
   "source": [
    "dSetg = d_dSet['gl']['MEANX666_20220401002022050100F.scan']"
   ]
  },
  {
   "cell_type": "code",
   "execution_count": null,
   "metadata": {
    "scrolled": false
   },
   "outputs": [],
   "source": [
    "scanplot.plot_fields(dSetg, Vars, Stats, outDir,\n",
    "                     showFig=True, saveFig=False, combine=False, hvplot=False)"
   ]
  },
  {
   "cell_type": "code",
   "execution_count": null,
   "metadata": {},
   "outputs": [],
   "source": [
    "hv_panel = pn.panel(tmp)\n",
    "\n",
    "hv_panel.pprint()"
   ]
  },
  {
   "cell_type": "code",
   "execution_count": null,
   "metadata": {},
   "outputs": [],
   "source": [
    "pn.panel(tmp, center=True, widget_type='scrubber', widget_location='top_left')"
   ]
  },
  {
   "cell_type": "code",
   "execution_count": null,
   "metadata": {},
   "outputs": [],
   "source": [
    "widgets = hv_panel[0]\n",
    "\n",
    "pn.Column(\n",
    "    pn.Row(*widgets),\n",
    "    hv_panel[1])"
   ]
  },
  {
   "cell_type": "code",
   "execution_count": null,
   "metadata": {
    "scrolled": false
   },
   "outputs": [],
   "source": []
  },
  {
   "cell_type": "code",
   "execution_count": null,
   "metadata": {},
   "outputs": [],
   "source": [
    "\n",
    "dSetg['MEANX666_20220401002022050100F.scan']['UMES:925'].hvplot(groupby='time', \n",
    "                                                                widget_type='scrubber', widget_location='bottom',\n",
    "                                                               levels=8)"
   ]
  },
  {
   "cell_type": "code",
   "execution_count": null,
   "metadata": {},
   "outputs": [],
   "source": [
    "import holoviews as hv\n",
    "\n",
    "hv.Layout([Company[Company.Year==i].hvplot.bar(x='CompanyID', y='Sales',rot=90, label=str(i)) for i in [2019, 2020, 2021]])"
   ]
  },
  {
   "cell_type": "code",
   "execution_count": null,
   "metadata": {},
   "outputs": [],
   "source": [
    "Varss = ['TEMP:850', 'TEMP:500', 'TEMP:250'] "
   ]
  },
  {
   "cell_type": "code",
   "execution_count": null,
   "metadata": {},
   "outputs": [],
   "source": [
    "hv.Layout([d_dSet['gl']['MEANX666_20220401002022050100F.scan'][i].hvplot(groupby='time', \n",
    "                                                                widget_type='scrubber', widget_location='bottom',\n",
    "                                                               levels=8) for i in Varss])"
   ]
  },
  {
   "cell_type": "code",
   "execution_count": null,
   "metadata": {},
   "outputs": [],
   "source": []
  },
  {
   "cell_type": "code",
   "execution_count": null,
   "metadata": {},
   "outputs": [],
   "source": [
    "xvals = [0.1* i for i in range(100)]\n",
    "curve =  hv.Curve((xvals, [np.sin(x) for x in xvals]))\n",
    "scatter =  hv.Scatter((xvals[::5], np.linspace(0,1,20)))\n",
    "curve + scatter"
   ]
  },
  {
   "cell_type": "code",
   "execution_count": null,
   "metadata": {},
   "outputs": [],
   "source": [
    "axs = []\n",
    "\n",
    "for var in Varss:\n",
    "    ax = dSetg['MEANX666_20220401002022050100F.scan'][var].hvplot(groupby='time', \n",
    "                                                                  widget_type='scrubber', widget_location='bottom')\n",
    "    axs.append(ax)"
   ]
  },
  {
   "cell_type": "code",
   "execution_count": null,
   "metadata": {
    "scrolled": false
   },
   "outputs": [],
   "source": [
    "axs[0] + axs[1] + axs[2]"
   ]
  },
  {
   "cell_type": "code",
   "execution_count": null,
   "metadata": {
    "scrolled": false
   },
   "outputs": [],
   "source": [
    "layout = hv.Layout(axs).cols(1)\n",
    "#layout"
   ]
  },
  {
   "cell_type": "code",
   "execution_count": null,
   "metadata": {},
   "outputs": [],
   "source": [
    "xs = [0.1* i for i in range(100)]\n",
    "curve_list   = [hv.Curve((xs, [np.sin(f*x) for x in xs])) for f in [0.5, 0.75]]\n",
    "scatter_list = [hv.Scatter((xs[::5], f*np.linspace(0,1,20))) for f in [-0.5, 0.5]]\n",
    "\n",
    "layout = hv.Layout(curve_list + curve_list + curve_list + curve_list + curve_list).cols(5)\n",
    "layout"
   ]
  },
  {
   "cell_type": "code",
   "execution_count": null,
   "metadata": {},
   "outputs": [],
   "source": [
    "hv.Layout(axs[0] + axs[1]).cols(1)"
   ]
  },
  {
   "cell_type": "code",
   "execution_count": null,
   "metadata": {},
   "outputs": [],
   "source": []
  }
 ],
 "metadata": {
  "kernelspec": {
   "display_name": "Python 3",
   "language": "python",
   "name": "python3"
  },
  "language_info": {
   "codemirror_mode": {
    "name": "ipython",
    "version": 3
   },
   "file_extension": ".py",
   "mimetype": "text/x-python",
   "name": "python",
   "nbconvert_exporter": "python",
   "pygments_lexer": "ipython3",
   "version": "3.8.2"
  },
  "latex_metadata": {
   "affiliation": "Freie Universit\\\"at Berlin, Fachbereich Physik, 14195 Berlin, Germany",
   "author": "Julius C. F. Schulz",
   "title": "Amazing Article"
  }
 },
 "nbformat": 4,
 "nbformat_minor": 4
}
