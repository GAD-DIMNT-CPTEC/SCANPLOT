{
 "cells": [
  {
   "cell_type": "code",
   "execution_count": null,
   "metadata": {},
   "outputs": [],
   "source": [
    "import re\n",
    "import os\n",
    "import ntpath\n",
    "import numpy as np\n",
    "import pandas as pd\n",
    "from datetime import date, datetime, timedelta\n",
    "import xarray as xr\n",
    "import cartopy.crs as ccrs\n",
    "from matplotlib import pyplot as plt"
   ]
  },
  {
   "cell_type": "code",
   "execution_count": null,
   "metadata": {},
   "outputs": [],
   "source": [
    "data_vars = {0: ('PSNM:000', 'Pressão Reduzida ao Nível Médio do Mar [hPa]'),\n",
    " 1: ('TEMP:850', 'Temperatura Absoluta @ 850 hPa [K]'),\n",
    " 2: ('TEMP:500', 'Temperatura Absoluta @ 500 hPa [K]'),\n",
    " 3: ('TEMP:250', 'Temperatura Absoluta @ 250 hPa [K]'),\n",
    " 4: ('UMES:925', 'Umidade Específica @ 925 hPa [g/Kg]'),\n",
    " 5: ('AGPL:925', 'Água Precipitável @ 925 hPa [Kg/m2]'),\n",
    " 6: ('ZGEO:850', 'Altura Geopotencial @ 850 hPa [gpm]'),\n",
    " 7: ('ZGEO:500', 'Altura Geopotencial @ 500 hPa [gpm]'),\n",
    " 8: ('ZGEO:250', 'Altura Geopotencial @ 250 hPa [gpm]'),\n",
    " 9: ('UVEL:850', 'Vento Zonal @ 850 hPa [m/s]'),\n",
    " 10: ('UVEL:500', 'Vento Zonal @ 500 hPa [m/s]'),\n",
    " 11: ('UVEL:250', 'Vento Zonal @ 250 hPa [m/s]'),\n",
    " 12: ('VVEL:850', 'Vento Meridional @ 850 hPa [m/s]'),\n",
    " 13: ('VVEL:500', 'Vento Meridional @ 500 hPa [m/s]'),\n",
    " 14: ('VVEL:250', 'Vento Meridional @ 250 hPa [m/s]')}"
   ]
  },
  {
   "cell_type": "code",
   "execution_count": null,
   "metadata": {},
   "outputs": [],
   "source": [
    "data_vars = {0: ('VT925', 'Virtual Temperature @ 925 hPa [K]'),\n",
    "1: ('VT850', 'Virtual Temperature @ 850 hPa [K]'),\n",
    "2: ('VT500', 'Virtual Temperature @ 500 hPa [K]'),\n",
    "3: ('TM850', 'Absolute Temperature @ 850 hPa [K]'),\n",
    "4: ('TM500', 'Absolute Temperature @ 500 hPa [K]'),\n",
    "5: ('TM250', 'Absolute Temperature @ 250 hPa [K]'),\n",
    "6: ('PSNM0', 'Pressure reduced to snm [hPa]'),\n",
    "7: ('SH925', 'Specific Humidity @ 925 hPa [g/Kg]'),\n",
    "8: ('SH850', 'Specific Humidity @ 850 hPa [g/Kg]'),\n",
    "9: ('SH500', 'Specific Humidity @ 500 hPa [g/Kg]'),\n",
    "10: ('AG925', 'Inst. Precipitable Water @ 925 hPa [Kg/m2]'),\n",
    "11: ('ZG850', 'Geopotential height @ 850 hPa [gpm]'),\n",
    "12: ('ZG500', 'Geopotential height @ 500 hPa [gpm]'),\n",
    "13: ('ZG250', 'Geopotential height @ 250 hPa [gpm]'),\n",
    "14: ('UV850', 'Zonal Wind @ 850 hPa [m/s]'),\n",
    "15: ('UV500', 'Zonal Wind @ 500 hPa [m/s]'),\n",
    "16: ('UV250', 'Zonal Wind @ 250 hPa [m/s]'),\n",
    "17: ('VV850', 'Meridional Wind @ 850 hPa [m/s]'),\n",
    "18: ('VV500', 'Meridional Wind @ 500 hPa [m/s]'),\n",
    "19: ('VV250', 'Meridional Wind @  250 hPa [m/s]'),\n",
    "20: ('PC000', 'TOTAL PRECIPITATION @ 1000 hPa [kg/m2/day]'),\n",
    "21: ('PV001', 'CONVECTIVE PRECIPITATION @ 1000 hPa [kg/m2/day]')}\n"
   ]
  },
  {
   "cell_type": "code",
   "execution_count": null,
   "metadata": {},
   "outputs": [],
   "source": [
    "data_conf = {'Starting Time': pd.datetime(2020, 6, 1, 0, 0),\n",
    " 'Ending Time': pd.datetime(2020, 8, 15, 0, 0),\n",
    " 'Analisys Time Step': '24',\n",
    " 'Forecast Time Step': '24',\n",
    " 'Forecast Total Time': '360',\n",
    " 'Time Step Type': 'forward',\n",
    " 'History Time': '48',\n",
    " 'scantec tables': '/scripts/ensemble/SCANTEC.TESTS/tables',\n",
    " 'run domain number': '1',\n",
    " 'run domain lower left lat': '-80',\n",
    " 'run domain lower left lon': '0',\n",
    " 'run domain upper right lat': '80',\n",
    " 'run domain upper right lon': '360',\n",
    " 'run domain resolution dx': '0.9375000000',\n",
    " 'run domain resolution dy': '0.9375000000',\n",
    " 'Reference Model Name': 'GFS_0p25_5levs',\n",
    " 'Reference file': '/lustre_xc50/carlos_bastarz/GFS_subset/%iy4%im2%id2%ih2/gfs.t00z.pgrb2.0p25.f000.%iy4%im2%id2%ih2.ctl',\n",
    " 'Experiments': {'X126': ['BAM_TQ0126L028_9levs',\n",
    "   '/lustre_xc50/carlos_bastarz/oensMB09_test_preXC50/pos/dataout/TQ0126L028/%iy4%im2%id2%ih2/NMC/GPOSNMC%iy4%im2%id2%ih2%fy4%fm2%fd2%fh2P.fct.TQ0126L028.ctl'],\n",
    "  'XENM': ['BAM_TQ0126L028_9levs',\n",
    "   '/lustre_xc50/carlos_bastarz/oensMB09_test_preXC50/ensmed/dataout/TQ0126L028/%iy4%im2%id2%ih2/GPOSENM%iy4%im2%id2%ih2%fy4%fm2%fd2%fh2P.fct.TQ0126L028.ctl'],\n",
    "  'T126': ['BAM_TQ0126L028_9levs',\n",
    "   '/lustre_xc50/carlos_bastarz/from_tupa/dados/ensemble/dsk001/oens_MB09_tupa/pos/dataout/TQ0126L028/%iy4%im2%id2%ih2/NMC/GPOSNMC%iy4%im2%id2%ih2%fy4%fm2%fd2%fh2P.fct.TQ0126L028.ctl'],\n",
    "  'TENM': ['BAM_TQ0126L028_9levs',\n",
    "   '/lustre_xc50/carlos_bastarz/from_tupa/dados/ensemble/dsk001/oens_MB09_tupa/ensmed/dataout/TQ0126L028/%iy4%im2%id2%ih2/GPOSENM%iy4%im2%id2%ih2%fy4%fm2%fd2%fh2P.fct.TQ0126L028.ctl']},\n",
    " 'Climatology Model Name': 'AGCM_TQ0062L028_50YR_CLIMATOLOGY_18levs',\n",
    " 'Climatology file': '/lustre_xc50/carlos_bastarz/climatologia/climatologia50yr.%mc.ctl',\n",
    " 'Output directory': '/scripts/ensemble/SCANTEC.TESTS/dataout'}"
   ]
  },
  {
   "cell_type": "code",
   "execution_count": null,
   "metadata": {},
   "outputs": [],
   "source": [
    "dataInicial = data_conf['Starting Time']\n",
    "dataFinal = data_conf['Ending Time']\n",
    "#Vars = list(map(data_vars.get,[11,12,13]))\n",
    "\n",
    "Stats = ['RMSE']\n",
    "#Exps = ['X126']\n",
    "Exps = ['T126OPER']\n",
    "\n",
    "outDir = '/home/carlos/Downloads/SCANPLOT_T11212/test/SCANTEC.TESTS/dataout/periodo/gl'\n",
    "\n",
    "tdef = 16\n",
    "\n",
    "xdef = 385\n",
    "ydef = 171\n",
    "\n",
    "lats = np.linspace(-90,90, ydef)\n",
    "lons = np.linspace(0,360, xdef)\n",
    "\n",
    "fnames = []\n",
    "\n",
    "for i in [*data_vars.values()]:\n",
    "    fnames.append(i[0])                           \n",
    " \n",
    "nvars = len(fnames)\n",
    "\n",
    "times = np.arange(tdef)"
   ]
  },
  {
   "cell_type": "code",
   "execution_count": null,
   "metadata": {},
   "outputs": [],
   "source": [
    "ds_field = {}\n",
    "    \n",
    "for stat in Stats:\n",
    "               \n",
    "    dataInicial_fmt = dataInicial.strftime('%Y%m%d%H')\n",
    "    dataFinal_fmt = dataFinal.strftime('%Y%m%d%H')\n",
    "\n",
    "    for exp in Exps:\n",
    "        \n",
    "        #file_name = str(stat) + str(exp) + '_' + str(dataInicial_fmt) + str(dataFinal_fmt) + 'F.scan'\n",
    "        file_name = str(stat) + str(exp) + '_' + str(dataInicial_fmt) + str(dataFinal_fmt) + 'F.scam'\n",
    "        fname = os.path.join(outDir, file_name)\n",
    "            \n",
    "        lista_n = []\n",
    "\n",
    "        if os.path.exists(fname):\n",
    "                              \n",
    "            dsl = []\n",
    "            ds = xr.Dataset()                           \n",
    "                                       \n",
    "            with open(fname,'rb') as f:\n",
    "                    \n",
    "                for t in np.arange(tdef): \n",
    "                    \n",
    "                    #f.seek(8, os.SEEK_SET) \n",
    "                    \n",
    "                    for i in np.arange(nvars):\n",
    "                                 \n",
    "                        #f.seek(8, os.SEEK_SET) \n",
    "\n",
    "                        data = np.fromfile(f, dtype=np.float32, count=xdef*ydef, offset=4) \n",
    "\n",
    "                        #f.seek(8, os.SEEK_SET) \n",
    "                            \n",
    "                        field = np.reshape(data, (xdef, ydef), order='F')  \n",
    "                                                       \n",
    "                        field[field == -999.9] = np.nan # substitui o valor -999.9 (undef) por NaN\n",
    "\n",
    "                        print('time=',t,'stat=',stat,'exp=',exp,'var=',i)\n",
    "                            \n",
    "                        ds[fnames[i]] = (('lon','lat'), field)\n",
    "                        ds.coords['lat'] = ('lat', lats)\n",
    "                        ds.coords['lon'] = ('lon', lons)\n",
    "                        ds.coords['time'] = [times[t]]\n",
    "                                       \n",
    "                        dst = ds.transpose('time', 'lat', 'lon')\n",
    "                                       \n",
    "                    dsl.append(dst)\n",
    "                \n",
    "                dsc = xr.concat(dsl, dim='time')                \n",
    "                \n",
    "    ds_field[ntpath.basename(str(fname))] = xr.concat(dsl, dim='time')"
   ]
  },
  {
   "cell_type": "code",
   "execution_count": null,
   "metadata": {},
   "outputs": [],
   "source": [
    "ds_field"
   ]
  },
  {
   "cell_type": "code",
   "execution_count": null,
   "metadata": {},
   "outputs": [],
   "source": [
    "ds_field['RMSET126OPER_20200601002020081500F.scam']"
   ]
  },
  {
   "cell_type": "code",
   "execution_count": null,
   "metadata": {},
   "outputs": [],
   "source": [
    "(ds_field['RMSET126OPER_20200601002020081500F.scam']['VT925'].isel(time=0).min(),ds_field['RMSET126OPER_20200601002020081500F.scam']['VT925'].isel(time=0).max())"
   ]
  },
  {
   "cell_type": "code",
   "execution_count": null,
   "metadata": {},
   "outputs": [],
   "source": [
    "ds_field['RMSET126OPER_20200601002020081500F.scam']['VT925'].isel(time=0).plot()"
   ]
  },
  {
   "cell_type": "code",
   "execution_count": null,
   "metadata": {},
   "outputs": [],
   "source": [
    "ds_field['RMSET126OPER_20200601002020081500F.scam']['VT925'].isel(time=-1).plot()"
   ]
  },
  {
   "cell_type": "code",
   "execution_count": null,
   "metadata": {},
   "outputs": [],
   "source": [
    "ds_field['RMSET126OPER_20200601002020081500F.scam']['VT925'].isel(time=0).plot()"
   ]
  },
  {
   "cell_type": "code",
   "execution_count": null,
   "metadata": {},
   "outputs": [],
   "source": [
    "ds_field['RMSET126OPER_20200601002020081500F.scam']['VT925'].isel(time=-1).plot()"
   ]
  },
  {
   "cell_type": "code",
   "execution_count": null,
   "metadata": {},
   "outputs": [],
   "source": [
    "fld = ds_field['RMSET126OPER_20200601002020081500F.scam']['VT925'].isel(time=5)\n",
    "\n",
    "fig = plt.figure(figsize=(12,9))\n",
    "ax = plt.axes(projection=ccrs.PlateCarree())\n",
    "ax.coastlines()\n",
    "ax.gridlines(linewidth=0.5, color='black', alpha=0.35, linestyle='--', draw_labels=True);\n",
    "#tmp.plot(ax=ax, transform=ccrs.PlateCarree(),\n",
    "#         vmin=2, vmax=30, \n",
    "#         cbar_kwargs={'shrink': 0.4})\n",
    "#tmp.plot(ax=ax, transform=ccrs.PlateCarree(),\n",
    "#         vmin=-25, vmax=35)\n",
    "fld.plot(ax=ax, transform=ccrs.PlateCarree(),vmin=-21, vmax=9)"
   ]
  },
  {
   "cell_type": "code",
   "execution_count": null,
   "metadata": {},
   "outputs": [],
   "source": [
    "fig = plt.figure(figsize=(12,9))\n",
    "ax = plt.axes(projection=ccrs.PlateCarree())\n",
    "ax.coastlines()\n",
    "ax.gridlines(linewidth=0.5, color='black', alpha=0.35, linestyle='--', draw_labels=True);\n",
    "\n",
    "fld.plot.pcolormesh(ax=ax, transform=ccrs.PlateCarree(), levels=12, vmin=-21, vmax=9, add_colorbar=True, add_labels=False)"
   ]
  },
  {
   "cell_type": "code",
   "execution_count": null,
   "metadata": {},
   "outputs": [],
   "source": [
    "fig = plt.figure(figsize=(12,9))\n",
    "ax = plt.axes(projection=ccrs.PlateCarree())\n",
    "ax.coastlines()\n",
    "ax.gridlines(linewidth=0.5, color='black', alpha=0.35, linestyle='--', draw_labels=True);\n",
    "\n",
    "fld.plot.contour(ax=ax, transform=ccrs.PlateCarree(), levels=12, vmin=-21, vmax=9)"
   ]
  },
  {
   "cell_type": "code",
   "execution_count": null,
   "metadata": {},
   "outputs": [],
   "source": [
    "#https://ocefpaf.github.io/python4oceanographers/blog/2013/09/30/natural_earth/\n",
    "    \n",
    "#import cartopy.crs as ccrs\n",
    "#import matplotlib.pyplot as plt\n",
    "from cartopy.feature import NaturalEarthFeature, LAND, COASTLINE\n",
    "from cartopy.mpl.gridliner import LONGITUDE_FORMATTER, LATITUDE_FORMATTER\n",
    "\n",
    "def brazil_states(projection=ccrs.PlateCarree()):\n",
    "    fig, ax = plt.subplots(figsize=(12, 9), subplot_kw=dict(projection=projection))\n",
    "    ax.set_extent([-82, -32, -45, 10])\n",
    "    ax.stock_img()\n",
    "    ax.add_feature(LAND)\n",
    "    ax.add_feature(COASTLINE)\n",
    "    gl = ax.gridlines(draw_labels=True)\n",
    "    gl.xlabels_top = False\n",
    "    gl.ylabels_right = False\n",
    "    gl.xformatter = LONGITUDE_FORMATTER\n",
    "    gl.yformatter = LATITUDE_FORMATTER\n",
    "    return fig, ax"
   ]
  },
  {
   "cell_type": "code",
   "execution_count": null,
   "metadata": {},
   "outputs": [],
   "source": [
    "fig, ax = brazil_states()\n",
    "states = NaturalEarthFeature(category='cultural', scale='110m', facecolor='none', name='admin_0_boundary_lines_land')\n",
    "\n",
    "ax = plt.axes(projection=ccrs.PlateCarree())\n",
    "ax.coastlines()\n",
    "ax.gridlines(linewidth=0.5, color='black', alpha=0.35, linestyle='--', draw_labels=True);\n",
    "\n",
    "fld.plot.contour(ax=ax, transform=ccrs.PlateCarree(), levels=12, vmin=-21, vmax=9)\n",
    "\n",
    "_ = ax.add_feature(states, edgecolor='gray')"
   ]
  },
  {
   "cell_type": "code",
   "execution_count": null,
   "metadata": {},
   "outputs": [],
   "source": [
    "fig, ax = brazil_states()\n",
    "states = NaturalEarthFeature(category='cultural', scale='110m', facecolor='none', name='admin_0_boundary_lines_land')\n",
    "\n",
    "ax = plt.axes(projection=ccrs.PlateCarree())\n",
    "ax.coastlines()\n",
    "ax.gridlines(linewidth=0.5, color='black', alpha=0.35, linestyle='--', draw_labels=True);\n",
    "\n",
    "fld.plot.pcolormesh(ax=ax, transform=ccrs.PlateCarree(), levels=12, vmin=-21, vmax=9, add_colorbar=True, add_labels=False)\n",
    "\n",
    "_ = ax.add_feature(states, edgecolor='gray')"
   ]
  },
  {
   "cell_type": "code",
   "execution_count": null,
   "metadata": {},
   "outputs": [],
   "source": []
  }
 ],
 "metadata": {
  "kernelspec": {
   "display_name": "Python 3",
   "language": "python",
   "name": "python3"
  },
  "language_info": {
   "codemirror_mode": {
    "name": "ipython",
    "version": 3
   },
   "file_extension": ".py",
   "mimetype": "text/x-python",
   "name": "python",
   "nbconvert_exporter": "python",
   "pygments_lexer": "ipython3",
   "version": "3.8.2"
  }
 },
 "nbformat": 4,
 "nbformat_minor": 4
}
