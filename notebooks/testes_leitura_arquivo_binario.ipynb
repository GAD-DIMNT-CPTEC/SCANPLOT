{
 "cells": [
  {
   "cell_type": "markdown",
   "metadata": {},
   "source": [
    "# Determinação do tamanho dos arquivos binários com base no número de variáveis e tempos de previsão avaliados\n",
    "\n",
    "O cálculo do tamanho dos arquivos binários com a distribuição espacial das estatísticas do SCANTEC, é feito da seguinte forma:\n",
    "\n",
    "$$\\text{size} = nvars \\times (nlons \\times nlats) \\times 4\\text{bytes} + (nvars \\times 4\\text{bytes}) + (nlevs \\times 4\\text{bytes})) \\times ntempos$$\n",
    "\n",
    "onde,\n",
    "\n",
    "* $nvars$: é o número de variáveis consideradas na avaliação (vide arquivo `scantec.vars`;\n",
    "* $nlons$: é o número de pontos de longitudes, calculado de acordo com a resolução para a qual os campos serão interpolados (eg., $nlons = \\frac{360}{\\text{res}}$ e $nlats = \\frac{180}{\\text{res}}$);\n",
    "* $nlevs$: é a quantidade de níveis verticais escritos para a variável avaliada (no caso do SCANTEC, sempre será $nlevs = 1$, pois no arquivo binário, os records das variáveis são escritos para cada nível de forma sequencial);\n",
    "* $ntempos$: é o número de tempos de previsão avaliados (eg., se `Forecast Time Step: 24`, então serão escritos dois tempos de previsão, referentes às `00` (tempo da análise) e `24` (previsão de 24 horas), independente do valor de `Ending Time`.\n",
    "\n",
    "**Observação:** como o SCANTEC escreve os arquivos binários com 1 nível para cada variável, então a conta simplificada é:\n",
    "\n",
    "$$\\text{size} = (nvars \\times (nlons \\times nlats) \\times 4\\text{bytes} + (nvars \\times 8\\text{bytes})) \\times ntempos$$\n",
    "\n",
    "**Exemplos:**\n",
    "\n",
    "Com 22 variáveis e 16 tempos:\n",
    "\n",
    "```\n",
    "Starting Time: 2020060100\n",
    "Ending Time:   2020060500\n",
    "Analisys Time Step:  24\n",
    "Forecast Time Step:  24\n",
    "Forecast Total Time: 360\n",
    "```\n",
    "\n",
    "$$(22 \\times (385 \\times 171) \\times 4 + (22 \\times 4) + ) \\times 16 = 92.698.496 \\text{ bytes}$$\n",
    "\n",
    "Com 22 variáveis e 16 tempos:\n",
    "\n",
    "```\n",
    "Starting Time: 2020060100\n",
    "Ending Time:   2020060100\n",
    "Analisys Time Step:  24\n",
    "Forecast Time Step:  24\n",
    "Forecast Total Time: 360\n",
    "```\n",
    "\n",
    "$$(22 \\times (385 \\times 171) \\times 4 + (22 \\times 8)) \\times 16 = 92.698.496 \\text{ bytes}$$\n",
    "\n",
    "Com 22 variáveis e 2 tempos:\n",
    "\n",
    "```\n",
    "Starting Time: 2020060100\n",
    "Ending Time:   2020060100\n",
    "Analisys Time Step:  24\n",
    "Forecast Time Step:  24\n",
    "Forecast Total Time: 24\n",
    "```\n",
    "\n",
    "$$(22 \\times (385 \\times 171) \\times 4 + (22 \\times 8)) \\times 2 = 11.587.312 \\text{ bytes}$$\n",
    "\n",
    "Com 22 variáveis e 2 tempos:\n",
    "\n",
    "```\n",
    "Starting Time: 2020060100\n",
    "Ending Time:   2020060500\n",
    "Analisys Time Step:  24\n",
    "Forecast Time Step:  24\n",
    "Forecast Total Time: 24\n",
    "```\n",
    "\n",
    "$$(22 \\times (385 \\times 171) \\times 4 + (22 \\times 8)) \\times 2 = 11.587.312 \\text{ bytes}$$\n",
    "\n",
    "Com 20 variáveis e 4 tempos:\n",
    "\n",
    "```\n",
    "Starting Time: 2014080500 \n",
    "Ending Time: 2014080600   \n",
    "Analisys Time Step: 12 \n",
    "Forecast Time Step: 24 \n",
    "Forecast Total Time: 72\n",
    "```\n",
    "\n",
    "$$(20 \\times (119 \\times 154) \\times 4 + (20 \\times 8)) \\times 4 = 5.864.960 \\text{ bytes}$$"
   ]
  },
  {
   "cell_type": "code",
   "execution_count": null,
   "metadata": {},
   "outputs": [],
   "source": [
    "import os\n",
    "import numpy as np\n",
    "import xarray as xr\n",
    "import matplotlib.pyplot as plt\n",
    "import cartopy.crs as ccrs\n",
    "import cartopy.feature as cfeature"
   ]
  },
  {
   "cell_type": "code",
   "execution_count": null,
   "metadata": {},
   "outputs": [],
   "source": [
    "#from IPython.display import display, Math, Latex\n",
    "#display(Math(r'F(k) = \\int_{-\\infty}^{\\infty} f(x) e^{2\\pi i k} dx'))"
   ]
  },
  {
   "cell_type": "code",
   "execution_count": null,
   "metadata": {},
   "outputs": [],
   "source": [
    "path = '/home/carlos/Downloads/SCANPLOT_T11212/test/SCANTEC.TESTS/dataout/'\n",
    "mfile = 'MEANX126_20200601002020081500F.scan'\n",
    "\n",
    "fname = os.path.join(path, mfile)"
   ]
  },
  {
   "cell_type": "code",
   "execution_count": null,
   "metadata": {},
   "outputs": [],
   "source": [
    "fname"
   ]
  },
  {
   "cell_type": "code",
   "execution_count": null,
   "metadata": {},
   "outputs": [],
   "source": [
    "xdef = 385\n",
    "ydef = 171\n",
    "zdef = 1\n",
    "tdef = 8\n",
    "nvars = 15\n",
    "\n",
    "#lats = np.linspace(-90,-45, ydef)\n",
    "lats = np.linspace(-90,90, ydef)\n",
    "lons = np.linspace(0,360, xdef)\n",
    "\n",
    "size = (nvars * (xdef * ydef) * 4 + (nvars * 8)) * tdef\n",
    "\n",
    "times = np.arange(tdef)"
   ]
  },
  {
   "cell_type": "code",
   "execution_count": null,
   "metadata": {},
   "outputs": [],
   "source": [
    "size"
   ]
  },
  {
   "cell_type": "code",
   "execution_count": null,
   "metadata": {},
   "outputs": [],
   "source": [
    "dtype = np.dtype([\n",
    "    ('psnm000', np.float32),\n",
    "    ('temp850', np.float32),\n",
    "    ('temp500', np.float32),\n",
    "    ('temp250', np.float32),\n",
    "    ('umes925', np.float32),\n",
    "    ('agpl925', np.float32),\n",
    "    ('zgeo850', np.float32),\n",
    "    ('zgeo500', np.float32),\n",
    "    ('zgeo250', np.float32),\n",
    "    ('uvel850', np.float32),\n",
    "    ('uvel500', np.float32),\n",
    "    ('uvel250', np.float32),\n",
    "    ('vvel850', np.float32),\n",
    "    ('vvel500', np.float32),\n",
    "    ('vvel250', np.float32),\n",
    "])\n",
    "\n",
    "\n",
    "f = open(fname, 'rb')\n",
    "f.seek(60, os.SEEK_SET) # 60 = 15 variáveis * 4 bytes\n",
    "\n",
    "data = np.fromfile(f, dtype=dtype)"
   ]
  },
  {
   "cell_type": "code",
   "execution_count": null,
   "metadata": {},
   "outputs": [],
   "source": [
    "data"
   ]
  },
  {
   "cell_type": "code",
   "execution_count": null,
   "metadata": {},
   "outputs": [],
   "source": [
    "data.shape"
   ]
  },
  {
   "cell_type": "code",
   "execution_count": null,
   "metadata": {},
   "outputs": [],
   "source": [
    "da = xr.DataArray(data)"
   ]
  },
  {
   "cell_type": "code",
   "execution_count": null,
   "metadata": {},
   "outputs": [],
   "source": [
    "da"
   ]
  },
  {
   "cell_type": "code",
   "execution_count": null,
   "metadata": {},
   "outputs": [],
   "source": [
    "with open(fname,'rb') as f:\n",
    "    for t in np.arange(tdef):\n",
    "        for i in np.arange(nvars):\n",
    "            f.seek(4, os.SEEK_SET)\n",
    "            data = np.fromfile(f, dtype=np.float32, count=xdef*ydef)#, offset=8)\n",
    "            field = np.reshape(data, (xdef, ydef), order='F')"
   ]
  },
  {
   "cell_type": "code",
   "execution_count": null,
   "metadata": {},
   "outputs": [],
   "source": [
    "field.shape"
   ]
  },
  {
   "cell_type": "code",
   "execution_count": null,
   "metadata": {},
   "outputs": [],
   "source": [
    "lista_n = []\n",
    "\n",
    "if os.path.exists(fname):\n",
    "\n",
    "    print(fname)\n",
    "\n",
    "    dsl = []\n",
    "\n",
    "    ds = xr.Dataset()\n",
    "\n",
    "    with open(fname,'rb') as f:\n",
    "\n",
    "        for t in np.arange(tdef):\n",
    "\n",
    "            for i in np.arange(nvars):\n",
    "\n",
    "                #s2d = str(xdef*ydef) + 'float32'\n",
    "\n",
    "                #pad = '8b'  \n",
    "\n",
    "                #dt = [ ('pad1', pad),  ('field', s2d), ('pad2', pad) ]    \n",
    "\n",
    "                #dt_obj = np.dtype(dt)#, align=True)    \n",
    "\n",
    "                #data = np.fromfile(f, dtype=np.float32, count=xdef*ydef, offset=8)    \n",
    "\n",
    "                f.seek(4, os.SEEK_SET)\n",
    "                \n",
    "                data = np.fromfile(f, dtype=np.float32, count=xdef*ydef)#, offset=8)\n",
    "\n",
    "                field = np.reshape(data, (xdef, ydef), order='F')\n",
    "\n",
    "                field[field==-999.9]=np.nan\n",
    "                \n",
    "                \n",
    "#                print(t, i)\n",
    "#\n",
    "#                ds[fnames[i]] = (('lon','lat'), field)\n",
    "                ds[fname] = (('lon','lat'), field)\n",
    "                ds.coords['lat'] = ('lat', lats)\n",
    "                ds.coords['lon'] = ('lon', lons)\n",
    "                ds.coords['time'] = [times[t]]\n",
    "                dst = ds.transpose('time', 'lat', 'lon')\n",
    "            dsl.append(dst)\n",
    "        dsc = xr.concat(dsl, dim='time')\n",
    "#        ds_field[ntpath.basename(str(fname))] = xr.concat(dsl, dim='time')"
   ]
  },
  {
   "cell_type": "code",
   "execution_count": null,
   "metadata": {},
   "outputs": [],
   "source": [
    "dsc"
   ]
  },
  {
   "cell_type": "code",
   "execution_count": null,
   "metadata": {},
   "outputs": [],
   "source": [
    "ds = dsc.isel(time=0).to_array(dim='test')"
   ]
  },
  {
   "cell_type": "code",
   "execution_count": null,
   "metadata": {},
   "outputs": [],
   "source": [
    "ds.min(), ds.max()"
   ]
  },
  {
   "cell_type": "code",
   "execution_count": null,
   "metadata": {},
   "outputs": [],
   "source": [
    "ds.plot()"
   ]
  },
  {
   "cell_type": "code",
   "execution_count": null,
   "metadata": {},
   "outputs": [],
   "source": [
    "#5865088"
   ]
  },
  {
   "cell_type": "code",
   "execution_count": null,
   "metadata": {},
   "outputs": [],
   "source": [
    "#5864512"
   ]
  },
  {
   "cell_type": "code",
   "execution_count": null,
   "metadata": {},
   "outputs": [],
   "source": [
    "#5864320"
   ]
  },
  {
   "cell_type": "code",
   "execution_count": null,
   "metadata": {},
   "outputs": [],
   "source": [
    "#5864320"
   ]
  },
  {
   "cell_type": "code",
   "execution_count": null,
   "metadata": {},
   "outputs": [],
   "source": [
    "#5864320 "
   ]
  },
  {
   "cell_type": "code",
   "execution_count": null,
   "metadata": {},
   "outputs": [],
   "source": [
    "s2d = (np.float32,(tdef,xdef,ydef))\n",
    "#s3d = str(ydef*xdef) + 'f4'\n",
    "pad = np.int32 \n",
    "#pad = 'i4' \n",
    "\n",
    "dt = [  \n",
    "    ('p000', pad), #('p111', pad), ('p222', pad), ('p333', pad), \n",
    "    \n",
    "    ('p1', pad),  ('vtmp925', s2d), ('p21', pad),\n",
    "    ('p2', pad),  ('vtmp850', s2d), ('p22', pad),\n",
    "    ('p3', pad),  ('vtmp500', s2d), ('p23', pad),       \n",
    "    \n",
    "    ('p444', pad), #('p555', pad), ('p666', pad), ('p777', pad), \n",
    "    \n",
    "    ('p4', pad),  ('temp850', s2d), ('p24', pad),\n",
    "    ('p5', pad),  ('temp500', s2d), ('p25', pad),\n",
    "    ('p6', pad),  ('temp250', s2d), ('p26', pad),\n",
    "    \n",
    "    ('p888', pad), #('p999', pad), ('pa', pad), ('pb', pad),\n",
    "    \n",
    "    ('p7', pad),  ('psnm000', s2d), ('p27', pad),\n",
    "    \n",
    "    ('pc', pad), #('pd', pad), ('pe', pad), ('pf', pad), \n",
    "    \n",
    "    ('p8', pad),  ('umes925', s2d), ('p28', pad),\n",
    "    ('p9', pad),  ('umes850', s2d), ('p29', pad),\n",
    "    ('p10', pad), ('umes500', s2d), ('p30', pad),\n",
    "    \n",
    "    ('pg', pad), #('ph', pad), ('pi', pad), ('pj', pad), \n",
    "    \n",
    "    ('p11', pad), ('agpl925', s2d), ('p31', pad),\n",
    "    \n",
    "    ('pk', pad), #('pl', pad), ('pm', pad), ('pn', pad), \n",
    "    \n",
    "    ('p12', pad), ('zgeo850', s2d), ('p32', pad),\n",
    "    ('p13', pad), ('zgeo500', s2d), ('p33', pad),\n",
    "    ('p14', pad), ('zgeo250', s2d), ('p34', pad),\n",
    "    \n",
    "    ('po', pad), #('pp', pad), ('pq', pad), ('pr', pad), \n",
    "    \n",
    "    ('p15', pad), ('uvel850', s2d), ('p35', pad),\n",
    "    ('p16', pad), ('uvel500', s2d), ('p36', pad),\n",
    "    ('p17', pad), ('uvel250', s2d), ('p37', pad),\n",
    "    \n",
    "    ('ps', pad), #('pt', pad), ('pu', pad), ('pv', pad), \n",
    "    \n",
    "    ('p18', pad), ('vvel850', s2d), ('p38', pad),\n",
    "    ('p19', pad), ('vvel500', s2d), ('p39', pad),\n",
    "    ('p20', pad), ('vvel250', s2d), ('p40', pad)    \n",
    "]   \n",
    "\n",
    "dt_obj = np.dtype(dt, align=True)"
   ]
  },
  {
   "cell_type": "code",
   "execution_count": null,
   "metadata": {},
   "outputs": [],
   "source": [
    "#s2d = (np.float32, (nvars, tdef, xdef, ydef))\n",
    "s2d = (np.float32, (xdef, ydef))\n",
    "\n",
    "dt = [\n",
    "      ('vtmp925t1', s2d), \n",
    "      ('vtmp850t1', s2d), \n",
    "      ('vtmp500t1', s2d),         \n",
    "      ('temp850t1', s2d),\n",
    "      ('temp500t1', s2d), \n",
    "      ('temp250t1', s2d),\n",
    "      ('psnm000t1', s2d), \n",
    "      ('umes925t1', s2d), \n",
    "      ('umes850t1', s2d), \n",
    "      ('umes500t1', s2d), \n",
    "      ('agpl925t1', s2d), \n",
    "      ('zgeo850t1', s2d), \n",
    "      ('zgeo500t1', s2d),\n",
    "      ('zgeo250t1', s2d), \n",
    "      ('uvel850t1', s2d), \n",
    "      ('uvel500t1', s2d), \n",
    "      ('uvel250t1', s2d), \n",
    "      ('vvel850t1', s2d), \n",
    "      ('vvel500t1', s2d), \n",
    "      ('vvel250t1', s2d), \n",
    "    \n",
    "      ('vtmp925t2', s2d), \n",
    "      ('vtmp850t2', s2d), \n",
    "      ('vtmp500t2', s2d),         \n",
    "      ('temp850t2', s2d),\n",
    "      ('temp500t2', s2d), \n",
    "      ('temp250t2', s2d),\n",
    "      ('psnm000t2', s2d), \n",
    "      ('umes925t2', s2d), \n",
    "      ('umes850t2', s2d), \n",
    "      ('umes500t2', s2d), \n",
    "      ('agpl925t2', s2d), \n",
    "      ('zgeo850t2', s2d), \n",
    "      ('zgeo500t2', s2d),\n",
    "      ('zgeo250t2', s2d), \n",
    "      ('uvel850t2', s2d), \n",
    "      ('uvel500t2', s2d), \n",
    "      ('uvel250t2', s2d), \n",
    "      ('vvel850t2', s2d), \n",
    "      ('vvel500t2', s2d), \n",
    "      ('vvel250t2', s2d), \n",
    "    \n",
    "      ('vtmp925t3', s2d), \n",
    "      ('vtmp850t3', s2d), \n",
    "      ('vtmp500t3', s2d),         \n",
    "      ('temp850t3', s2d),\n",
    "      ('temp500t3', s2d), \n",
    "      ('temp250t3', s2d),\n",
    "      ('psnm000t3', s2d), \n",
    "      ('umes925t3', s2d), \n",
    "      ('umes850t3', s2d), \n",
    "      ('umes500t3', s2d), \n",
    "      ('agpl925t3', s2d), \n",
    "      ('zgeo850t3', s2d), \n",
    "      ('zgeo500t3', s2d),\n",
    "      ('zgeo250t3', s2d), \n",
    "      ('uvel850t3', s2d), \n",
    "      ('uvel500t3', s2d), \n",
    "      ('uvel250t3', s2d), \n",
    "      ('vvel850t3', s2d), \n",
    "      ('vvel500t3', s2d), \n",
    "      ('vvel250t3', s2d), \n",
    "    \n",
    "      ('vtmp925t4', s2d), \n",
    "      ('vtmp850t4', s2d), \n",
    "      ('vtmp500t4', s2d),         \n",
    "      ('temp850t4', s2d),\n",
    "      ('temp500t4', s2d), \n",
    "      ('temp250t4', s2d),\n",
    "      ('psnm000t4', s2d), \n",
    "      ('umes925t4', s2d), \n",
    "      ('umes850t4', s2d), \n",
    "      ('umes500t4', s2d), \n",
    "      ('agpl925t4', s2d), \n",
    "      ('zgeo850t4', s2d), \n",
    "      ('zgeo500t4', s2d),\n",
    "      ('zgeo250t4', s2d), \n",
    "      ('uvel850t4', s2d), \n",
    "      ('uvel500t4', s2d), \n",
    "      ('uvel250t4', s2d), \n",
    "      ('vvel850t4', s2d), \n",
    "      ('vvel500t4', s2d), \n",
    "      ('vvel250t4', s2d),     \n",
    "     ]   \n",
    "\n",
    "dt_obj = np.dtype(dt, align=True)"
   ]
  },
  {
   "cell_type": "code",
   "execution_count": null,
   "metadata": {},
   "outputs": [],
   "source": [
    "f = open(file, 'rb')\n",
    "#f.seek(1863, os.SEEK_SET)\n",
    "\n",
    "data = np.fromfile(f, dtype=dt_obj, count=-1, offset=8)"
   ]
  },
  {
   "cell_type": "code",
   "execution_count": null,
   "metadata": {},
   "outputs": [],
   "source": [
    "datar = np.reshape(data[0]['vvel250t4'], (xdef, ydef), order='F')"
   ]
  },
  {
   "cell_type": "code",
   "execution_count": null,
   "metadata": {},
   "outputs": [],
   "source": [
    "xobj = xr.DataArray(datar)"
   ]
  },
  {
   "cell_type": "code",
   "execution_count": null,
   "metadata": {},
   "outputs": [],
   "source": [
    "xobj.plot()"
   ]
  },
  {
   "cell_type": "code",
   "execution_count": null,
   "metadata": {},
   "outputs": [],
   "source": [
    "s2d = (np.float32, (nvars, tdef, xdef, ydef))\n",
    "pad = np.int32 \n",
    "\n",
    "#dt = [ ('pad0', pad), ('var', s2d), ('pad1', pad) ] \n",
    "dt = [ ('var', s2d) ] \n",
    "\n",
    "dt_obj = np.dtype(dt, align=True)"
   ]
  },
  {
   "cell_type": "code",
   "execution_count": null,
   "metadata": {},
   "outputs": [],
   "source": [
    "input_file = open(file,'rb')\n",
    "\n",
    "data = np.fromfile(input_file, dtype=dt_obj, count=-1)#, offset=320)"
   ]
  },
  {
   "cell_type": "code",
   "execution_count": null,
   "metadata": {},
   "outputs": [],
   "source": [
    "data"
   ]
  },
  {
   "cell_type": "code",
   "execution_count": null,
   "metadata": {},
   "outputs": [],
   "source": [
    "datar = np.reshape(data[0]['var'], (nvars, tdef, xdef, ydef), order='F')"
   ]
  },
  {
   "cell_type": "code",
   "execution_count": null,
   "metadata": {},
   "outputs": [],
   "source": [
    "datar"
   ]
  },
  {
   "cell_type": "code",
   "execution_count": null,
   "metadata": {},
   "outputs": [],
   "source": [
    "xobj = xr.DataArray(datar)"
   ]
  },
  {
   "cell_type": "code",
   "execution_count": null,
   "metadata": {},
   "outputs": [],
   "source": [
    "xobj.isel(dim_0=0, dim_1=0)"
   ]
  },
  {
   "cell_type": "code",
   "execution_count": null,
   "metadata": {},
   "outputs": [],
   "source": [
    "xobj.isel(dim_0=0, dim_1=0).min(), xobj.isel(dim_0=0, dim_1=0).max()"
   ]
  },
  {
   "cell_type": "code",
   "execution_count": null,
   "metadata": {},
   "outputs": [],
   "source": [
    "xobj.isel(dim_0=-1, dim_1=0).plot()"
   ]
  },
  {
   "cell_type": "code",
   "execution_count": null,
   "metadata": {},
   "outputs": [],
   "source": []
  }
 ],
 "metadata": {
  "kernelspec": {
   "display_name": "Python 3",
   "language": "python",
   "name": "python3"
  },
  "language_info": {
   "codemirror_mode": {
    "name": "ipython",
    "version": 3
   },
   "file_extension": ".py",
   "mimetype": "text/x-python",
   "name": "python",
   "nbconvert_exporter": "python",
   "pygments_lexer": "ipython3",
   "version": "3.8.2"
  }
 },
 "nbformat": 4,
 "nbformat_minor": 4
}
