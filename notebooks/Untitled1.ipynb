{
 "cells": [
  {
   "cell_type": "code",
   "execution_count": 1,
   "metadata": {
    "scrolled": false
   },
   "outputs": [
    {
     "ename": "TypeError",
     "evalue": "Population must be a sequence or set.  For dicts, use list(d).",
     "output_type": "error",
     "traceback": [
      "\u001b[0;31m--------------------------------------------------------------\u001b[0m",
      "\u001b[0;31mTypeError\u001b[0m                    Traceback (most recent call last)",
      "\u001b[0;32m<ipython-input-1-aecbdb8d52ab>\u001b[0m in \u001b[0;36m<module>\u001b[0;34m\u001b[0m\n\u001b[1;32m      9\u001b[0m \u001b[0;34m\u001b[0m\u001b[0m\n\u001b[1;32m     10\u001b[0m \u001b[0;31m# data for plot 2\u001b[0m\u001b[0;34m\u001b[0m\u001b[0;34m\u001b[0m\u001b[0;34m\u001b[0m\u001b[0m\n\u001b[0;32m---> 11\u001b[0;31m df2 = pd.DataFrame({\"A\" : sample(np.linspace(10, 20, 10),5),\n\u001b[0m\u001b[1;32m     12\u001b[0m                     \u001b[0;34m\"B\"\u001b[0m \u001b[0;34m:\u001b[0m \u001b[0msample\u001b[0m\u001b[0;34m(\u001b[0m\u001b[0mnp\u001b[0m\u001b[0;34m.\u001b[0m\u001b[0mlinspace\u001b[0m\u001b[0;34m(\u001b[0m\u001b[0;36m20\u001b[0m\u001b[0;34m,\u001b[0m \u001b[0;36m30\u001b[0m\u001b[0;34m,\u001b[0m \u001b[0;36m10\u001b[0m\u001b[0;34m)\u001b[0m\u001b[0;34m,\u001b[0m\u001b[0;36m5\u001b[0m\u001b[0;34m)\u001b[0m\u001b[0;34m,\u001b[0m\u001b[0;34m\u001b[0m\u001b[0;34m\u001b[0m\u001b[0m\n\u001b[1;32m     13\u001b[0m                     \u001b[0;34m\"C\"\u001b[0m \u001b[0;34m:\u001b[0m \u001b[0msample\u001b[0m\u001b[0;34m(\u001b[0m\u001b[0mnp\u001b[0m\u001b[0;34m.\u001b[0m\u001b[0mlinspace\u001b[0m\u001b[0;34m(\u001b[0m\u001b[0;36m30\u001b[0m\u001b[0;34m,\u001b[0m \u001b[0;36m40\u001b[0m\u001b[0;34m,\u001b[0m \u001b[0;36m10\u001b[0m\u001b[0;34m)\u001b[0m\u001b[0;34m,\u001b[0m\u001b[0;36m5\u001b[0m\u001b[0;34m)\u001b[0m\u001b[0;34m,\u001b[0m\u001b[0;34m\u001b[0m\u001b[0;34m\u001b[0m\u001b[0m\n",
      "\u001b[0;32m~/anaconda3/envs/SCANPLOT-teste2/lib/python3.8/random.py\u001b[0m in \u001b[0;36msample\u001b[0;34m(self, population, k)\u001b[0m\n\u001b[1;32m    357\u001b[0m             \u001b[0mpopulation\u001b[0m \u001b[0;34m=\u001b[0m \u001b[0mtuple\u001b[0m\u001b[0;34m(\u001b[0m\u001b[0mpopulation\u001b[0m\u001b[0;34m)\u001b[0m\u001b[0;34m\u001b[0m\u001b[0;34m\u001b[0m\u001b[0m\n\u001b[1;32m    358\u001b[0m         \u001b[0;32mif\u001b[0m \u001b[0;32mnot\u001b[0m \u001b[0misinstance\u001b[0m\u001b[0;34m(\u001b[0m\u001b[0mpopulation\u001b[0m\u001b[0;34m,\u001b[0m \u001b[0m_Sequence\u001b[0m\u001b[0;34m)\u001b[0m\u001b[0;34m:\u001b[0m\u001b[0;34m\u001b[0m\u001b[0;34m\u001b[0m\u001b[0m\n\u001b[0;32m--> 359\u001b[0;31m             \u001b[0;32mraise\u001b[0m \u001b[0mTypeError\u001b[0m\u001b[0;34m(\u001b[0m\u001b[0;34m\"Population must be a sequence or set.  For dicts, use list(d).\"\u001b[0m\u001b[0;34m)\u001b[0m\u001b[0;34m\u001b[0m\u001b[0;34m\u001b[0m\u001b[0m\n\u001b[0m\u001b[1;32m    360\u001b[0m         \u001b[0mrandbelow\u001b[0m \u001b[0;34m=\u001b[0m \u001b[0mself\u001b[0m\u001b[0;34m.\u001b[0m\u001b[0m_randbelow\u001b[0m\u001b[0;34m\u001b[0m\u001b[0;34m\u001b[0m\u001b[0m\n\u001b[1;32m    361\u001b[0m         \u001b[0mn\u001b[0m \u001b[0;34m=\u001b[0m \u001b[0mlen\u001b[0m\u001b[0;34m(\u001b[0m\u001b[0mpopulation\u001b[0m\u001b[0;34m)\u001b[0m\u001b[0;34m\u001b[0m\u001b[0;34m\u001b[0m\u001b[0m\n",
      "\u001b[0;31mTypeError\u001b[0m: Population must be a sequence or set.  For dicts, use list(d)."
     ]
    }
   ],
   "source": [
    "import pandas as pd\n",
    "import numpy as np\n",
    "from bokeh.models import ColumnDataSource\n",
    "from bokeh.plotting import figure\n",
    "from bokeh.layouts import row\n",
    "from bokeh.io import curdoc\n",
    "from random import sample\n",
    "\n",
    "\n",
    "# data for plot 2\n",
    "df2 = pd.DataFrame({\"A\" : sample(np.linspace(10, 20, 10),5),\n",
    "                    \"B\" : sample(np.linspace(20, 30, 10),5),\n",
    "                    \"C\" : sample(np.linspace(30, 40, 10),5),\n",
    "                    \"D\" : sample(np.linspace(40, 50, 10),5),\n",
    "                    \"E\" : sample(np.linspace(50, 60, 10),5),})\n",
    "source2 = ColumnDataSource(\n",
    "        data=dict(\n",
    "            x=list(df2.index.values),\n",
    "            y=list(df2.iloc[:,0].values)\n",
    "        )\n",
    "    )\n",
    "\n",
    "# data for plot 1\n",
    "df1 = np.mean(df2)\n",
    "source1 = ColumnDataSource(\n",
    "        data=dict(\n",
    "            x=list(range(0,df1.shape[0])),\n",
    "            y=list(df1.values),\n",
    "            colnames = list(df1.index.values)\n",
    "        )\n",
    "    )\n",
    "\n",
    "# Plot graph one with data from df1 and source 1 as barplot\n",
    "plot1 = figure(plot_height=300, plot_width=400, tools=\"tap\")\n",
    "barglyph = plot1.vbar(x='x',top='y',source=source1, bottom=0,width =0.5)\n",
    "\n",
    "\n",
    "# Plot graph two with data from df2 and source 2 as line\n",
    "plot2 = figure(plot_height=300, plot_width=400, title=\"myvalues\", \n",
    "              tools=\"crosshair,box_zoom,reset,save,wheel_zoom,hover\")    \n",
    "r1 = plot2.line(x='x',y='y',source =source2, line_alpha = 1, line_width=1)\n",
    "# safe data from plot 2 for later change in subroutine\n",
    "ds1 = r1.data_source\n",
    "\n",
    "def callback(attr, old, new):\n",
    "    patch_name =  source1.data['colnames'][new['1d']['indices'][0]]\n",
    "    ds1.data['y'] = df2[patch_name].values\n",
    "    print(\"TapTool callback executed on Patch {}\".format(patch_name))\n",
    "\n",
    "# add taptool to plot1\n",
    "barglyph.data_source.on_change('selected',callback)\n",
    "\n",
    "curdoc().add_root(row(plot1,plot2))"
   ]
  },
  {
   "cell_type": "code",
   "execution_count": null,
   "metadata": {},
   "outputs": [],
   "source": []
  }
 ],
 "metadata": {
  "kernelspec": {
   "display_name": "Python 3",
   "language": "python",
   "name": "python3"
  },
  "language_info": {
   "codemirror_mode": {
    "name": "ipython",
    "version": 3
   },
   "file_extension": ".py",
   "mimetype": "text/x-python",
   "name": "python",
   "nbconvert_exporter": "python",
   "pygments_lexer": "ipython3",
   "version": "3.8.2"
  }
 },
 "nbformat": 4,
 "nbformat_minor": 4
}
