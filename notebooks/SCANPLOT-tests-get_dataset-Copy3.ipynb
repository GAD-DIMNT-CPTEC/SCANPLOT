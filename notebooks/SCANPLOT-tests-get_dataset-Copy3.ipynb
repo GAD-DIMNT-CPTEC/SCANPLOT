{
 "cells": [
  {
   "cell_type": "code",
   "execution_count": null,
   "metadata": {},
   "outputs": [],
   "source": [
    "import scanplot"
   ]
  },
  {
   "cell_type": "code",
   "execution_count": null,
   "metadata": {
    "scrolled": false
   },
   "outputs": [],
   "source": [
    "Regs = ['gl', 'hn', 'tr', 'hs', 'as']\n",
    "\n",
    "Stats = ['MEAN', 'RMSE', 'VIES']\n",
    "Exps = ['X666']\n",
    "\n",
    "d_data_vars = {}\n",
    "d_data_conf = {}\n",
    "\n",
    "for reg in Regs:\n",
    "    data_vars, data_conf = scanplot.read_namelists(\n",
    "        '/home/carlos/Downloads/SCANPLOT_T11212/test/SCANTEC.2.0.0b2_test_aval_oper',\n",
    "        basecomp='periodo/X666/' + reg)\n",
    "    d_data_vars[reg] = data_vars\n",
    "    d_data_conf[reg] = data_conf"
   ]
  },
  {
   "cell_type": "code",
   "execution_count": null,
   "metadata": {},
   "outputs": [],
   "source": [
    "Vars = list(map(data_vars.get,[*data_vars.keys()]))"
   ]
  },
  {
   "cell_type": "code",
   "execution_count": null,
   "metadata": {
    "scrolled": true
   },
   "outputs": [],
   "source": [
    "d_dSet = {}\n",
    "\n",
    "for reg in Regs:\n",
    "    #outDir = d_data_conf[reg]['Output directory']\n",
    "    outDir = '/home/carlos/Downloads/SCANPLOT_T11212/test/SCANTEC.2.0.0b2_test_aval_oper/dataout/periodo/' + reg\n",
    "    #outDir = '/home/carlos/Downloads/SCANPLOT_T11212/test/SCANTEC.2.0.0b2_test_aval_oper/dataout/serie/' + reg\n",
    "    figDir = outDir + '/figs'\n",
    "    dSet = scanplot.get_dataset(d_data_conf[reg], d_data_vars[reg], Stats, Exps, outDir, tExt='scan', series=False, save=True)\n",
    "    d_dSet[reg] = dSet  "
   ]
  },
  {
   "cell_type": "code",
   "execution_count": null,
   "metadata": {},
   "outputs": [],
   "source": [
    "dSet_mgl = d_dSet['gl']['RMSEX666_20220401002022050100F.scan']\n",
    "dSet_mhn = d_dSet['hn']['RMSEX666_20220401002022050100F.scan']\n",
    "dSet_mtr = d_dSet['tr']['RMSEX666_20220401002022050100F.scan']\n",
    "dSet_mhs = d_dSet['hs']['RMSEX666_20220401002022050100F.scan']\n",
    "dSet_mas = d_dSet['as']['RMSEX666_20220401002022050100F.scan']\n",
    "\n",
    "dSet_rgl = d_dSet['gl']['RMSEX666_20220401002022050100F.scan']\n",
    "dSet_rhn = d_dSet['hn']['RMSEX666_20220401002022050100F.scan']\n",
    "dSet_rtr = d_dSet['tr']['RMSEX666_20220401002022050100F.scan']\n",
    "dSet_rhs = d_dSet['hs']['RMSEX666_20220401002022050100F.scan']\n",
    "dSet_ras = d_dSet['as']['RMSEX666_20220401002022050100F.scan']\n",
    "\n",
    "dSet_vgl = d_dSet['gl']['VIESX666_20220401002022050100F.scan']\n",
    "dSet_vhn = d_dSet['hn']['VIESX666_20220401002022050100F.scan']\n",
    "dSet_vtr = d_dSet['tr']['VIESX666_20220401002022050100F.scan']\n",
    "dSet_vhs = d_dSet['hs']['VIESX666_20220401002022050100F.scan']\n",
    "dSet_vas = d_dSet['as']['VIESX666_20220401002022050100F.scan']"
   ]
  },
  {
   "cell_type": "code",
   "execution_count": null,
   "metadata": {
    "scrolled": false
   },
   "outputs": [],
   "source": [
    "scanplot.plot_fields(dSet_mgl, Vars, Stats, outDir,\n",
    "                     showFig=True, saveFig=False, combine=True, hvplot=True)"
   ]
  },
  {
   "cell_type": "code",
   "execution_count": null,
   "metadata": {},
   "outputs": [],
   "source": [
    "scanplot.plot_fields(dSet_mhn, Vars, Stats, outDir,\n",
    "                     showFig=True, saveFig=False, combine=True, hvplot=True)"
   ]
  },
  {
   "cell_type": "code",
   "execution_count": null,
   "metadata": {},
   "outputs": [],
   "source": [
    "scanplot.plot_fields(dSet_mtr, Vars, Stats, outDir,\n",
    "                     showFig=True, saveFig=False, combine=True, hvplot=True)"
   ]
  },
  {
   "cell_type": "code",
   "execution_count": null,
   "metadata": {},
   "outputs": [],
   "source": [
    "scanplot.plot_fields(dSet_mhs, Vars, Stats, outDir,\n",
    "                     showFig=True, saveFig=False, combine=True, hvplot=True)"
   ]
  },
  {
   "cell_type": "code",
   "execution_count": null,
   "metadata": {},
   "outputs": [],
   "source": [
    "scanplot.plot_fields(dSet_mas, Vars, Stats, outDir,\n",
    "                     showFig=True, saveFig=False, combine=True, hvplot=True)"
   ]
  },
  {
   "cell_type": "code",
   "execution_count": null,
   "metadata": {},
   "outputs": [],
   "source": [
    "scanplot.plot_fields(dSet_rgl, Vars, Stats, outDir,\n",
    "                     showFig=True, saveFig=False, combine=True, hvplot=True)"
   ]
  },
  {
   "cell_type": "code",
   "execution_count": null,
   "metadata": {},
   "outputs": [],
   "source": []
  }
 ],
 "metadata": {
  "kernelspec": {
   "display_name": "Python 3",
   "language": "python",
   "name": "python3"
  },
  "language_info": {
   "codemirror_mode": {
    "name": "ipython",
    "version": 3
   },
   "file_extension": ".py",
   "mimetype": "text/x-python",
   "name": "python",
   "nbconvert_exporter": "python",
   "pygments_lexer": "ipython3",
   "version": "3.8.2"
  },
  "latex_metadata": {
   "affiliation": "Freie Universit\\\"at Berlin, Fachbereich Physik, 14195 Berlin, Germany",
   "author": "Julius C. F. Schulz",
   "title": "Amazing Article"
  }
 },
 "nbformat": 4,
 "nbformat_minor": 4
}
