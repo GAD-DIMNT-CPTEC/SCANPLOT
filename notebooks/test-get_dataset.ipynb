{
 "cells": [
  {
   "cell_type": "code",
   "execution_count": 1,
   "metadata": {},
   "outputs": [],
   "source": [
    "from scanplot import read_namelists"
   ]
  },
  {
   "cell_type": "code",
   "execution_count": 2,
   "metadata": {},
   "outputs": [],
   "source": [
    "data_vars, data_conf = read_namelists('/home/carlos/Downloads/SCANPLOT_T11212/test/SCANTEC.TESTS/')"
   ]
  },
  {
   "cell_type": "code",
   "execution_count": 3,
   "metadata": {},
   "outputs": [],
   "source": [
    "data_vars = {0: ('PSNM:000', 'Pressão Reduzida ao Nível Médio do Mar [hPa]'),\n",
    " 1: ('TEMP:850', 'Temperatura Absoluta @ 850 hPa [K]'),\n",
    " 2: ('TEMP:500', 'Temperatura Absoluta @ 500 hPa [K]'),\n",
    " 3: ('TEMP:250', 'Temperatura Absoluta @ 250 hPa [K]'),\n",
    " 4: ('UMES:925', 'Umidade Específica @ 925 hPa [g/Kg]'),\n",
    " 5: ('AGPL:925', 'Água Precipitável @ 925 hPa [Kg/m2]'),\n",
    " 6: ('ZGEO:850', 'Altura Geopotencial @ 850 hPa [gpm]'),\n",
    " 7: ('ZGEO:500', 'Altura Geopotencial @ 500 hPa [gpm]'),\n",
    " 8: ('ZGEO:250', 'Altura Geopotencial @ 250 hPa [gpm]'),\n",
    " 9: ('UVEL:850', 'Vento Zonal @ 850 hPa [m/s]'),\n",
    " 10: ('UVEL:500', 'Vento Zonal @ 500 hPa [m/s]'),\n",
    " 11: ('UVEL:250', 'Vento Zonal @ 250 hPa [m/s]'),\n",
    " 12: ('VVEL:850', 'Vento Meridional @ 850 hPa [m/s]'),\n",
    " 13: ('VVEL:500', 'Vento Meridional @ 500 hPa [m/s]'),\n",
    " 14: ('VVEL:250', 'Vento Meridional @ 250 hPa [m/s]')}"
   ]
  },
  {
   "cell_type": "code",
   "execution_count": 4,
   "metadata": {},
   "outputs": [
    {
     "data": {
      "text/plain": [
       "{0: ('PSNM:000', 'Pressão Reduzida ao Nível Médio do Mar [hPa]'),\n",
       " 1: ('TEMP:850', 'Temperatura Absoluta @ 850 hPa [K]'),\n",
       " 2: ('TEMP:500', 'Temperatura Absoluta @ 500 hPa [K]'),\n",
       " 3: ('TEMP:250', 'Temperatura Absoluta @ 250 hPa [K]'),\n",
       " 4: ('UMES:925', 'Umidade Específica @ 925 hPa [g/Kg]'),\n",
       " 5: ('AGPL:925', 'Água Precipitável @ 925 hPa [Kg/m2]'),\n",
       " 6: ('ZGEO:850', 'Altura Geopotencial @ 850 hPa [gpm]'),\n",
       " 7: ('ZGEO:500', 'Altura Geopotencial @ 500 hPa [gpm]'),\n",
       " 8: ('ZGEO:250', 'Altura Geopotencial @ 250 hPa [gpm]'),\n",
       " 9: ('UVEL:850', 'Vento Zonal @ 850 hPa [m/s]'),\n",
       " 10: ('UVEL:500', 'Vento Zonal @ 500 hPa [m/s]'),\n",
       " 11: ('UVEL:250', 'Vento Zonal @ 250 hPa [m/s]'),\n",
       " 12: ('VVEL:850', 'Vento Meridional @ 850 hPa [m/s]'),\n",
       " 13: ('VVEL:500', 'Vento Meridional @ 500 hPa [m/s]'),\n",
       " 14: ('VVEL:250', 'Vento Meridional @ 250 hPa [m/s]')}"
      ]
     },
     "execution_count": 4,
     "metadata": {},
     "output_type": "execute_result"
    }
   ],
   "source": [
    "data_vars"
   ]
  },
  {
   "cell_type": "code",
   "execution_count": 5,
   "metadata": {},
   "outputs": [
    {
     "data": {
      "text/plain": [
       "{'Starting Time': datetime.datetime(2020, 6, 1, 0, 0),\n",
       " 'Ending Time': datetime.datetime(2020, 8, 15, 0, 0),\n",
       " 'Analisys Time Step': '24',\n",
       " 'Forecast Time Step': '24',\n",
       " 'Forecast Total Time': '360',\n",
       " 'Time Step Type': 'forward',\n",
       " 'History Time': '48',\n",
       " 'scantec tables': '/scripts/ensemble/SCANTEC.TESTS/tables',\n",
       " 'run domain number': '1',\n",
       " 'run domain lower left lat': '-80',\n",
       " 'run domain lower left lon': '0',\n",
       " 'run domain upper right lat': '80',\n",
       " 'run domain upper right lon': '360',\n",
       " 'run domain resolution dx': '0.9375000000',\n",
       " 'run domain resolution dy': '0.9375000000',\n",
       " 'Reference Model Name': 'GFS_0p25_5levs',\n",
       " 'Reference file': '/lustre_xc50/carlos_bastarz/GFS_subset/%iy4%im2%id2%ih2/gfs.t00z.pgrb2.0p25.f000.%iy4%im2%id2%ih2.ctl',\n",
       " 'Experiments': {'X126': ['BAM_TQ0126L028_9levs',\n",
       "   '/lustre_xc50/carlos_bastarz/oensMB09_test_preXC50/pos/dataout/TQ0126L028/%iy4%im2%id2%ih2/NMC/GPOSNMC%iy4%im2%id2%ih2%fy4%fm2%fd2%fh2P.fct.TQ0126L028.ctl'],\n",
       "  'XENM': ['BAM_TQ0126L028_9levs',\n",
       "   '/lustre_xc50/carlos_bastarz/oensMB09_test_preXC50/ensmed/dataout/TQ0126L028/%iy4%im2%id2%ih2/GPOSENM%iy4%im2%id2%ih2%fy4%fm2%fd2%fh2P.fct.TQ0126L028.ctl'],\n",
       "  'T126': ['BAM_TQ0126L028_9levs',\n",
       "   '/lustre_xc50/carlos_bastarz/from_tupa/dados/ensemble/dsk001/oens_MB09_tupa/pos/dataout/TQ0126L028/%iy4%im2%id2%ih2/NMC/GPOSNMC%iy4%im2%id2%ih2%fy4%fm2%fd2%fh2P.fct.TQ0126L028.ctl'],\n",
       "  'TENM': ['BAM_TQ0126L028_9levs',\n",
       "   '/lustre_xc50/carlos_bastarz/from_tupa/dados/ensemble/dsk001/oens_MB09_tupa/ensmed/dataout/TQ0126L028/%iy4%im2%id2%ih2/GPOSENM%iy4%im2%id2%ih2%fy4%fm2%fd2%fh2P.fct.TQ0126L028.ctl']},\n",
       " 'Climatology Model Name': 'AGCM_TQ0062L028_50YR_CLIMATOLOGY_18levs',\n",
       " 'Climatology file': '/lustre_xc50/carlos_bastarz/climatologia/climatologia50yr.%mc.ctl',\n",
       " 'Output directory': '/scripts/ensemble/SCANTEC.TESTS/dataout'}"
      ]
     },
     "execution_count": 5,
     "metadata": {},
     "output_type": "execute_result"
    }
   ],
   "source": [
    "data_conf"
   ]
  },
  {
   "cell_type": "code",
   "execution_count": 6,
   "metadata": {},
   "outputs": [],
   "source": [
    "dataInicial = data_conf[\"Starting Time\"]\n",
    "dataFinal = data_conf[\"Ending Time\"]\n",
    "Vars = list(map(data_vars.get,[11,12,13])) # ou [*map(data_vars.get,[12,14])]\n",
    "#Stats = [\"ACOR\", \"RMSE\", \"VIES\", \"MEAN\"]\n",
    "Stats = [\"RMSE\"]#, \"VIES\", \"MEAN\"]\n",
    "#Exps = list(data_conf[\"Experiments\"].keys()) # ou [*data_conf[\"Experiments\"].keys()]\n",
    "Exps = [\"X126\"]\n",
    "outDir = data_conf[\"Output directory\"]"
   ]
  },
  {
   "cell_type": "code",
   "execution_count": 7,
   "metadata": {},
   "outputs": [],
   "source": [
    "outDir = '/home/carlos/Downloads/SCANPLOT_T11212/test/SCANTEC.TESTS/dataout'"
   ]
  },
  {
   "cell_type": "code",
   "execution_count": 8,
   "metadata": {},
   "outputs": [],
   "source": [
    "from scanplot import get_dataset"
   ]
  },
  {
   "cell_type": "code",
   "execution_count": 9,
   "metadata": {},
   "outputs": [
    {
     "name": "stdout",
     "output_type": "stream",
     "text": [
      "Starting Time 2020-06-01 00:00:00\n",
      "Ending Time 2020-08-15 00:00:00\n",
      "DatetimeIndex(['2020-06-01', '2020-06-02', '2020-06-03', '2020-06-04',\n",
      "               '2020-06-05', '2020-06-06', '2020-06-07', '2020-06-08',\n",
      "               '2020-06-09', '2020-06-10', '2020-06-11', '2020-06-12',\n",
      "               '2020-06-13', '2020-06-14', '2020-06-15', '2020-06-16',\n",
      "               '2020-06-17', '2020-06-18', '2020-06-19', '2020-06-20',\n",
      "               '2020-06-21', '2020-06-22', '2020-06-23', '2020-06-24',\n",
      "               '2020-06-25', '2020-06-26', '2020-06-27', '2020-06-28',\n",
      "               '2020-06-29', '2020-06-30', '2020-07-01', '2020-07-02',\n",
      "               '2020-07-03', '2020-07-04', '2020-07-05', '2020-07-06',\n",
      "               '2020-07-07', '2020-07-08', '2020-07-09', '2020-07-10',\n",
      "               '2020-07-11', '2020-07-12', '2020-07-13', '2020-07-14',\n",
      "               '2020-07-15', '2020-07-16', '2020-07-17', '2020-07-18',\n",
      "               '2020-07-19', '2020-07-20', '2020-07-21', '2020-07-22',\n",
      "               '2020-07-23', '2020-07-24', '2020-07-25', '2020-07-26',\n",
      "               '2020-07-27', '2020-07-28', '2020-07-29', '2020-07-30',\n",
      "               '2020-07-31', '2020-08-01', '2020-08-02', '2020-08-03',\n",
      "               '2020-08-04', '2020-08-05', '2020-08-06', '2020-08-07',\n",
      "               '2020-08-08', '2020-08-09', '2020-08-10', '2020-08-11',\n",
      "               '2020-08-12', '2020-08-13', '2020-08-14', '2020-08-15'],\n",
      "              dtype='datetime64[ns]', freq='24H')\n",
      "8\n",
      "[0 1 2 3 4 5 6 7]\n",
      "time= 0 stat= RMSE exp= X126 var= 0\n"
     ]
    },
    {
     "ename": "ValueError",
     "evalue": "conflicting sizes for dimension 'lat': length 171 on 'lat' and length 385 on 'PSNM:000'",
     "output_type": "error",
     "traceback": [
      "\u001b[0;31m---------------------------------------------------------------------------\u001b[0m",
      "\u001b[0;31mValueError\u001b[0m                                Traceback (most recent call last)",
      "\u001b[0;32m<ipython-input-9-cc22326e1201>\u001b[0m in \u001b[0;36m<module>\u001b[0;34m\u001b[0m\n\u001b[0;32m----> 1\u001b[0;31m \u001b[0mdSet\u001b[0m \u001b[0;34m=\u001b[0m \u001b[0mget_dataset\u001b[0m\u001b[0;34m(\u001b[0m\u001b[0mdata_conf\u001b[0m\u001b[0;34m,\u001b[0m \u001b[0mdata_vars\u001b[0m\u001b[0;34m,\u001b[0m \u001b[0mStats\u001b[0m\u001b[0;34m,\u001b[0m \u001b[0mExps\u001b[0m\u001b[0;34m,\u001b[0m \u001b[0moutDir\u001b[0m\u001b[0;34m)\u001b[0m\u001b[0;34m\u001b[0m\u001b[0;34m\u001b[0m\u001b[0m\n\u001b[0m",
      "\u001b[0;32m~/Downloads/SCANPLOT_T11212/data_structures.py\u001b[0m in \u001b[0;36mget_dataset\u001b[0;34m(data_conf, data_vars, Stats, Exps, outDir)\u001b[0m\n\u001b[1;32m    367\u001b[0m \u001b[0;34m\u001b[0m\u001b[0m\n\u001b[1;32m    368\u001b[0m                             \u001b[0mds\u001b[0m\u001b[0;34m[\u001b[0m\u001b[0mfnames\u001b[0m\u001b[0;34m[\u001b[0m\u001b[0mi\u001b[0m\u001b[0;34m]\u001b[0m\u001b[0;34m]\u001b[0m \u001b[0;34m=\u001b[0m \u001b[0;34m(\u001b[0m\u001b[0;34m(\u001b[0m\u001b[0;34m'lon'\u001b[0m\u001b[0;34m,\u001b[0m\u001b[0;34m'lat'\u001b[0m\u001b[0;34m)\u001b[0m\u001b[0;34m,\u001b[0m \u001b[0mfield\u001b[0m\u001b[0;34m)\u001b[0m\u001b[0;34m\u001b[0m\u001b[0;34m\u001b[0m\u001b[0m\n\u001b[0;32m--> 369\u001b[0;31m                             \u001b[0mds\u001b[0m\u001b[0;34m.\u001b[0m\u001b[0mcoords\u001b[0m\u001b[0;34m[\u001b[0m\u001b[0;34m'lat'\u001b[0m\u001b[0;34m]\u001b[0m \u001b[0;34m=\u001b[0m \u001b[0;34m(\u001b[0m\u001b[0;34m'lat'\u001b[0m\u001b[0;34m,\u001b[0m \u001b[0mlats\u001b[0m\u001b[0;34m)\u001b[0m\u001b[0;34m\u001b[0m\u001b[0;34m\u001b[0m\u001b[0m\n\u001b[0m\u001b[1;32m    370\u001b[0m                             \u001b[0mds\u001b[0m\u001b[0;34m.\u001b[0m\u001b[0mcoords\u001b[0m\u001b[0;34m[\u001b[0m\u001b[0;34m'lon'\u001b[0m\u001b[0;34m]\u001b[0m \u001b[0;34m=\u001b[0m \u001b[0;34m(\u001b[0m\u001b[0;34m'lon'\u001b[0m\u001b[0;34m,\u001b[0m \u001b[0mlons\u001b[0m\u001b[0;34m)\u001b[0m\u001b[0;34m\u001b[0m\u001b[0;34m\u001b[0m\u001b[0m\n\u001b[1;32m    371\u001b[0m                             \u001b[0mds\u001b[0m\u001b[0;34m.\u001b[0m\u001b[0mcoords\u001b[0m\u001b[0;34m[\u001b[0m\u001b[0;34m'time'\u001b[0m\u001b[0;34m]\u001b[0m \u001b[0;34m=\u001b[0m \u001b[0;34m[\u001b[0m\u001b[0mtimes\u001b[0m\u001b[0;34m[\u001b[0m\u001b[0mt\u001b[0m\u001b[0;34m]\u001b[0m\u001b[0;34m]\u001b[0m\u001b[0;34m\u001b[0m\u001b[0;34m\u001b[0m\u001b[0m\n",
      "\u001b[0;32m~/anaconda3/envs/SCANPLOT-teste2/lib/python3.8/site-packages/xarray/core/coordinates.py\u001b[0m in \u001b[0;36m__setitem__\u001b[0;34m(self, key, value)\u001b[0m\n\u001b[1;32m     38\u001b[0m \u001b[0;34m\u001b[0m\u001b[0m\n\u001b[1;32m     39\u001b[0m     \u001b[0;32mdef\u001b[0m \u001b[0m__setitem__\u001b[0m\u001b[0;34m(\u001b[0m\u001b[0mself\u001b[0m\u001b[0;34m,\u001b[0m \u001b[0mkey\u001b[0m\u001b[0;34m:\u001b[0m \u001b[0mHashable\u001b[0m\u001b[0;34m,\u001b[0m \u001b[0mvalue\u001b[0m\u001b[0;34m:\u001b[0m \u001b[0mAny\u001b[0m\u001b[0;34m)\u001b[0m \u001b[0;34m->\u001b[0m \u001b[0;32mNone\u001b[0m\u001b[0;34m:\u001b[0m\u001b[0;34m\u001b[0m\u001b[0;34m\u001b[0m\u001b[0m\n\u001b[0;32m---> 40\u001b[0;31m         \u001b[0mself\u001b[0m\u001b[0;34m.\u001b[0m\u001b[0mupdate\u001b[0m\u001b[0;34m(\u001b[0m\u001b[0;34m{\u001b[0m\u001b[0mkey\u001b[0m\u001b[0;34m:\u001b[0m \u001b[0mvalue\u001b[0m\u001b[0;34m}\u001b[0m\u001b[0;34m)\u001b[0m\u001b[0;34m\u001b[0m\u001b[0;34m\u001b[0m\u001b[0m\n\u001b[0m\u001b[1;32m     41\u001b[0m \u001b[0;34m\u001b[0m\u001b[0m\n\u001b[1;32m     42\u001b[0m     \u001b[0;34m@\u001b[0m\u001b[0mproperty\u001b[0m\u001b[0;34m\u001b[0m\u001b[0;34m\u001b[0m\u001b[0m\n",
      "\u001b[0;32m~/anaconda3/envs/SCANPLOT-teste2/lib/python3.8/site-packages/xarray/core/coordinates.py\u001b[0m in \u001b[0;36mupdate\u001b[0;34m(self, other)\u001b[0m\n\u001b[1;32m    116\u001b[0m             \u001b[0;34m[\u001b[0m\u001b[0mself\u001b[0m\u001b[0;34m.\u001b[0m\u001b[0mvariables\u001b[0m\u001b[0;34m,\u001b[0m \u001b[0mother_vars\u001b[0m\u001b[0;34m]\u001b[0m\u001b[0;34m,\u001b[0m \u001b[0mpriority_arg\u001b[0m\u001b[0;34m=\u001b[0m\u001b[0;36m1\u001b[0m\u001b[0;34m,\u001b[0m \u001b[0mindexes\u001b[0m\u001b[0;34m=\u001b[0m\u001b[0mself\u001b[0m\u001b[0;34m.\u001b[0m\u001b[0mindexes\u001b[0m\u001b[0;34m\u001b[0m\u001b[0;34m\u001b[0m\u001b[0m\n\u001b[1;32m    117\u001b[0m         )\n\u001b[0;32m--> 118\u001b[0;31m         \u001b[0mself\u001b[0m\u001b[0;34m.\u001b[0m\u001b[0m_update_coords\u001b[0m\u001b[0;34m(\u001b[0m\u001b[0mcoords\u001b[0m\u001b[0;34m,\u001b[0m \u001b[0mindexes\u001b[0m\u001b[0;34m)\u001b[0m\u001b[0;34m\u001b[0m\u001b[0;34m\u001b[0m\u001b[0m\n\u001b[0m\u001b[1;32m    119\u001b[0m \u001b[0;34m\u001b[0m\u001b[0m\n\u001b[1;32m    120\u001b[0m     \u001b[0;32mdef\u001b[0m \u001b[0m_merge_raw\u001b[0m\u001b[0;34m(\u001b[0m\u001b[0mself\u001b[0m\u001b[0;34m,\u001b[0m \u001b[0mother\u001b[0m\u001b[0;34m)\u001b[0m\u001b[0;34m:\u001b[0m\u001b[0;34m\u001b[0m\u001b[0;34m\u001b[0m\u001b[0m\n",
      "\u001b[0;32m~/anaconda3/envs/SCANPLOT-teste2/lib/python3.8/site-packages/xarray/core/coordinates.py\u001b[0m in \u001b[0;36m_update_coords\u001b[0;34m(self, coords, indexes)\u001b[0m\n\u001b[1;32m    229\u001b[0m \u001b[0;34m\u001b[0m\u001b[0m\n\u001b[1;32m    230\u001b[0m         \u001b[0;31m# check for inconsistent state *before* modifying anything in-place\u001b[0m\u001b[0;34m\u001b[0m\u001b[0;34m\u001b[0m\u001b[0;34m\u001b[0m\u001b[0m\n\u001b[0;32m--> 231\u001b[0;31m         \u001b[0mdims\u001b[0m \u001b[0;34m=\u001b[0m \u001b[0mcalculate_dimensions\u001b[0m\u001b[0;34m(\u001b[0m\u001b[0mvariables\u001b[0m\u001b[0;34m)\u001b[0m\u001b[0;34m\u001b[0m\u001b[0;34m\u001b[0m\u001b[0m\n\u001b[0m\u001b[1;32m    232\u001b[0m         \u001b[0mnew_coord_names\u001b[0m \u001b[0;34m=\u001b[0m \u001b[0mset\u001b[0m\u001b[0;34m(\u001b[0m\u001b[0mcoords\u001b[0m\u001b[0;34m)\u001b[0m\u001b[0;34m\u001b[0m\u001b[0;34m\u001b[0m\u001b[0m\n\u001b[1;32m    233\u001b[0m         \u001b[0;32mfor\u001b[0m \u001b[0mdim\u001b[0m\u001b[0;34m,\u001b[0m \u001b[0msize\u001b[0m \u001b[0;32min\u001b[0m \u001b[0mdims\u001b[0m\u001b[0;34m.\u001b[0m\u001b[0mitems\u001b[0m\u001b[0;34m(\u001b[0m\u001b[0;34m)\u001b[0m\u001b[0;34m:\u001b[0m\u001b[0;34m\u001b[0m\u001b[0;34m\u001b[0m\u001b[0m\n",
      "\u001b[0;32m~/anaconda3/envs/SCANPLOT-teste2/lib/python3.8/site-packages/xarray/core/dataset.py\u001b[0m in \u001b[0;36mcalculate_dimensions\u001b[0;34m(variables)\u001b[0m\n\u001b[1;32m    204\u001b[0m                 \u001b[0mlast_used\u001b[0m\u001b[0;34m[\u001b[0m\u001b[0mdim\u001b[0m\u001b[0;34m]\u001b[0m \u001b[0;34m=\u001b[0m \u001b[0mk\u001b[0m\u001b[0;34m\u001b[0m\u001b[0;34m\u001b[0m\u001b[0m\n\u001b[1;32m    205\u001b[0m             \u001b[0;32melif\u001b[0m \u001b[0mdims\u001b[0m\u001b[0;34m[\u001b[0m\u001b[0mdim\u001b[0m\u001b[0;34m]\u001b[0m \u001b[0;34m!=\u001b[0m \u001b[0msize\u001b[0m\u001b[0;34m:\u001b[0m\u001b[0;34m\u001b[0m\u001b[0;34m\u001b[0m\u001b[0m\n\u001b[0;32m--> 206\u001b[0;31m                 raise ValueError(\n\u001b[0m\u001b[1;32m    207\u001b[0m                     \u001b[0;34m\"conflicting sizes for dimension %r: \"\u001b[0m\u001b[0;34m\u001b[0m\u001b[0;34m\u001b[0m\u001b[0m\n\u001b[1;32m    208\u001b[0m                     \u001b[0;34m\"length %s on %r and length %s on %r\"\u001b[0m\u001b[0;34m\u001b[0m\u001b[0;34m\u001b[0m\u001b[0m\n",
      "\u001b[0;31mValueError\u001b[0m: conflicting sizes for dimension 'lat': length 171 on 'lat' and length 385 on 'PSNM:000'"
     ]
    }
   ],
   "source": [
    "dSet = get_dataset(data_conf, data_vars, Stats, Exps, outDir)"
   ]
  },
  {
   "cell_type": "code",
   "execution_count": 10,
   "metadata": {},
   "outputs": [
    {
     "ename": "NameError",
     "evalue": "name 'dSet' is not defined",
     "output_type": "error",
     "traceback": [
      "\u001b[0;31m---------------------------------------------------------------------------\u001b[0m",
      "\u001b[0;31mNameError\u001b[0m                                 Traceback (most recent call last)",
      "\u001b[0;32m<ipython-input-10-9f3fe8641821>\u001b[0m in \u001b[0;36m<module>\u001b[0;34m\u001b[0m\n\u001b[0;32m----> 1\u001b[0;31m \u001b[0mdSet\u001b[0m\u001b[0;34m\u001b[0m\u001b[0;34m\u001b[0m\u001b[0m\n\u001b[0m",
      "\u001b[0;31mNameError\u001b[0m: name 'dSet' is not defined"
     ]
    }
   ],
   "source": [
    "dSet"
   ]
  },
  {
   "cell_type": "code",
   "execution_count": null,
   "metadata": {},
   "outputs": [],
   "source": [
    "dSet['RMSEX126_20200601002020081500F.scan']"
   ]
  },
  {
   "cell_type": "code",
   "execution_count": null,
   "metadata": {},
   "outputs": [],
   "source": [
    "dSet['RMSEX126_20200601002020081500F.scan']['VVEL:850'].isel(time=-1).plot()"
   ]
  },
  {
   "cell_type": "code",
   "execution_count": null,
   "metadata": {},
   "outputs": [],
   "source": [
    "import matplotlib.pyplot as plt\n",
    "import cartopy.crs as ccrs"
   ]
  },
  {
   "cell_type": "code",
   "execution_count": null,
   "metadata": {},
   "outputs": [],
   "source": [
    "fld = dSet['RMSEX126_20200601002020081500F.scan']['VVEL:850'].isel(time=-1)\n",
    "\n",
    "fig = plt.figure(figsize=(12,9))\n",
    "ax = plt.axes(projection=ccrs.PlateCarree())\n",
    "ax.coastlines()\n",
    "ax.gridlines(linewidth=0.5, color='black', alpha=0.35, linestyle='--', draw_labels=True);\n",
    "#tmp.plot(ax=ax, transform=ccrs.PlateCarree(),\n",
    "#         vmin=2, vmax=30, \n",
    "#         cbar_kwargs={'shrink': 0.4})\n",
    "#tmp.plot(ax=ax, transform=ccrs.PlateCarree(),\n",
    "#         vmin=-25, vmax=35)\n",
    "fld.plot(ax=ax, transform=ccrs.PlateCarree(),vmin=-21, vmax=9)"
   ]
  },
  {
   "cell_type": "code",
   "execution_count": null,
   "metadata": {},
   "outputs": [],
   "source": [
    "fig = plt.figure(figsize=(12,9))\n",
    "ax = plt.axes(projection=ccrs.PlateCarree())\n",
    "ax.coastlines()\n",
    "ax.gridlines(linewidth=0.5, color='black', alpha=0.35, linestyle='--', draw_labels=True);\n",
    "\n",
    "fld.plot.pcolormesh(ax=ax, transform=ccrs.PlateCarree(), levels=12, vmin=-21, vmax=9, add_colorbar=True, add_labels=False)"
   ]
  },
  {
   "cell_type": "code",
   "execution_count": null,
   "metadata": {},
   "outputs": [],
   "source": [
    "fig = plt.figure(figsize=(12,9))\n",
    "ax = plt.axes(projection=ccrs.PlateCarree())\n",
    "ax.coastlines()\n",
    "ax.gridlines(linewidth=0.5, color='black', alpha=0.35, linestyle='--', draw_labels=True);\n",
    "\n",
    "fld.plot.contour(ax=ax, transform=ccrs.PlateCarree(), levels=12, vmin=-21, vmax=9)"
   ]
  },
  {
   "cell_type": "code",
   "execution_count": null,
   "metadata": {},
   "outputs": [],
   "source": [
    "#https://ocefpaf.github.io/python4oceanographers/blog/2013/09/30/natural_earth/\n",
    "    \n",
    "#import cartopy.crs as ccrs\n",
    "#import matplotlib.pyplot as plt\n",
    "from cartopy.feature import NaturalEarthFeature, LAND, COASTLINE\n",
    "from cartopy.mpl.gridliner import LONGITUDE_FORMATTER, LATITUDE_FORMATTER\n",
    "\n",
    "def brazil_states(projection=ccrs.PlateCarree()):\n",
    "    fig, ax = plt.subplots(figsize=(12, 9), subplot_kw=dict(projection=projection))\n",
    "    ax.set_extent([-82, -32, -45, 10])\n",
    "    ax.stock_img()\n",
    "    ax.add_feature(LAND)\n",
    "    ax.add_feature(COASTLINE)\n",
    "    gl = ax.gridlines(draw_labels=True)\n",
    "    gl.xlabels_top = False\n",
    "    gl.ylabels_right = False\n",
    "    gl.xformatter = LONGITUDE_FORMATTER\n",
    "    gl.yformatter = LATITUDE_FORMATTER\n",
    "    return fig, ax"
   ]
  },
  {
   "cell_type": "code",
   "execution_count": null,
   "metadata": {},
   "outputs": [],
   "source": [
    "fig, ax = brazil_states()\n",
    "states = NaturalEarthFeature(category='cultural', scale='50m', facecolor='none', name='admin_1_states_provinces_shp')\n",
    "\n",
    "ax = plt.axes(projection=ccrs.PlateCarree())\n",
    "ax.coastlines()\n",
    "ax.gridlines(linewidth=0.5, color='black', alpha=0.35, linestyle='--', draw_labels=True);\n",
    "\n",
    "fld.plot.contour(ax=ax, transform=ccrs.PlateCarree(), levels=12, vmin=-21, vmax=9)\n",
    "\n",
    "_ = ax.add_feature(states, edgecolor='gray')"
   ]
  },
  {
   "cell_type": "code",
   "execution_count": null,
   "metadata": {},
   "outputs": [],
   "source": [
    "fig, ax = brazil_states()\n",
    "states = NaturalEarthFeature(category='cultural', scale='50m', facecolor='none', name='admin_1_states_provinces_shp')\n",
    "\n",
    "ax = plt.axes(projection=ccrs.PlateCarree())\n",
    "ax.coastlines()\n",
    "ax.gridlines(linewidth=0.5, color='black', alpha=0.35, linestyle='--', draw_labels=True);\n",
    "\n",
    "fld.plot.pcolormesh(ax=ax, transform=ccrs.PlateCarree(), levels=12, vmin=-21, vmax=9, add_colorbar=True, add_labels=False)\n",
    "\n",
    "_ = ax.add_feature(states, edgecolor='gray')"
   ]
  },
  {
   "cell_type": "code",
   "execution_count": null,
   "metadata": {},
   "outputs": [],
   "source": []
  }
 ],
 "metadata": {
  "kernelspec": {
   "display_name": "Python 3",
   "language": "python",
   "name": "python3"
  },
  "language_info": {
   "codemirror_mode": {
    "name": "ipython",
    "version": 3
   },
   "file_extension": ".py",
   "mimetype": "text/x-python",
   "name": "python",
   "nbconvert_exporter": "python",
   "pygments_lexer": "ipython3",
   "version": "3.8.2"
  }
 },
 "nbformat": 4,
 "nbformat_minor": 4
}
